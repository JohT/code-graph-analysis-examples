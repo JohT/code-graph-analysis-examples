{
 "cells": [
  {
   "attachments": {},
   "cell_type": "markdown",
   "id": "2f0eabc4",
   "metadata": {},
   "source": [
    "# Node Embeddings\n",
    "\n",
    "This notebook demonstrates different methods for node embeddings and how to further reduce their dimensionality to be able to visualize them in a 2D plot. \n",
    "\n",
    "Node embeddings are essentially an array of floating point numbers (length = embedding dimension) that can be used as \"features\" in machine learning. These numbers approximate the relationship and similarity information of each node and can also be seen as a way to encode the topology of the graph.\n",
    "\n",
    "## Considerations\n",
    "\n",
    "Due to dimensionality reduction some information gets lost, especially when visualizing node embeddings in two dimensions. Nevertheless, it helps to get an intuition on what node embeddings are and how much of the similarity and neighborhood information is retained. The latter can be observed by how well nodes of the same color and therefore same community are placed together and how much bigger nodes with a high centrality score influence them. \n",
    "\n",
    "If the visualization doesn't show a somehow clear separation between the communities (colors) here are some ideas for tuning: \n",
    "- Clean the data, e.g. filter out very few nodes with extremely high degree that aren't actually that important\n",
    "- Try directed vs. undirected projections\n",
    "- Tune the embedding algorithm, e.g. use a higher dimensionality\n",
    "- Tune t-SNE that is used to reduce the node embeddings dimension to two dimensions for visualization. \n",
    "\n",
    "It could also be the case that the node embeddings are good enough and well suited the way they are despite their visualization for the down stream task like node classification or link prediction. In that case it makes sense to see how the whole pipeline performs before tuning the node embeddings in detail. \n",
    "\n",
    "## Note about data dependencies\n",
    "\n",
    "PageRank centrality and Leiden community are also fetched from the Graph and need to be calculated first.\n",
    "This makes it easier to see if the embeddings approximate the structural information of the graph in the plot.\n",
    "If these properties are missing you will only see black dots all of the same size.\n",
    "\n",
    "<br>  \n",
    "\n",
    "### References\n",
    "- [jqassistant](https://jqassistant.org)\n",
    "- [Neo4j Python Driver](https://neo4j.com/docs/api/python-driver/current)\n",
    "- [Tutorial: Applied Graph Embeddings](https://neo4j.com/developer/graph-data-science/applied-graph-embeddings)\n",
    "- [Visualizing the embeddings in 2D](https://github.com/openai/openai-cookbook/blob/main/examples/Visualizing_embeddings_in_2D.ipynb)\n",
    "- [scikit-learn TSNE](https://scikit-learn.org/stable/modules/generated/sklearn.manifold.TSNE.html#sklearn.manifold.TSNE)\n",
    "- [AttributeError: 'list' object has no attribute 'shape'](https://bobbyhadz.com/blog/python-attributeerror-list-object-has-no-attribute-shape)\n",
    "- [Fast Random Projection (neo4j)](https://neo4j.com/docs/graph-data-science/current/machine-learning/node-embeddings/fastrp)\n",
    "- [HashGNN (neo4j)](https://neo4j.com/docs/graph-data-science/2.6/machine-learning/node-embeddings/hashgnn)\n",
    "- [node2vec (neo4j)](https://neo4j.com/docs/graph-data-science/current/machine-learning/node-embeddings/node2vec) computes a vector representation of a node based on second order random walks in the graph. \n",
    "- [Complete guide to understanding Node2Vec algorithm](https://towardsdatascience.com/complete-guide-to-understanding-node2vec-algorithm-4e9a35e5d147)"
   ]
  },
  {
   "cell_type": "code",
   "execution_count": 1,
   "id": "4191f259",
   "metadata": {
    "execution": {
     "iopub.execute_input": "2025-02-15T22:51:00.270485Z",
     "iopub.status.busy": "2025-02-15T22:51:00.270309Z",
     "iopub.status.idle": "2025-02-15T22:51:01.219395Z",
     "shell.execute_reply": "2025-02-15T22:51:01.218903Z"
    }
   },
   "outputs": [],
   "source": [
    "import os\n",
    "from IPython.display import display\n",
    "import pandas as pd\n",
    "import matplotlib.pyplot as plot\n",
    "import typing as typ\n",
    "import numpy as np\n",
    "from openTSNE.sklearn import TSNE\n",
    "from neo4j import GraphDatabase"
   ]
  },
  {
   "cell_type": "code",
   "execution_count": 2,
   "id": "f8ef41ff",
   "metadata": {
    "execution": {
     "iopub.execute_input": "2025-02-15T22:51:01.221268Z",
     "iopub.status.busy": "2025-02-15T22:51:01.221018Z",
     "iopub.status.idle": "2025-02-15T22:51:01.224061Z",
     "shell.execute_reply": "2025-02-15T22:51:01.223651Z"
    }
   },
   "outputs": [
    {
     "name": "stdout",
     "output_type": "stream",
     "text": [
      "The openTSNE version is: 1.0.2\n",
      "The pandas version is: 2.2.3\n"
     ]
    }
   ],
   "source": [
    "from openTSNE import __version__ as openTSNE_version\n",
    "print('The openTSNE version is: {}'.format(openTSNE_version))\n",
    "print('The pandas version is: {}'.format(pd.__version__))\n"
   ]
  },
  {
   "cell_type": "code",
   "execution_count": 3,
   "id": "1c5dab37",
   "metadata": {
    "execution": {
     "iopub.execute_input": "2025-02-15T22:51:01.225679Z",
     "iopub.status.busy": "2025-02-15T22:51:01.225374Z",
     "iopub.status.idle": "2025-02-15T22:51:01.232277Z",
     "shell.execute_reply": "2025-02-15T22:51:01.231818Z"
    }
   },
   "outputs": [],
   "source": [
    "# Please set the environment variable \"NEO4J_INITIAL_PASSWORD\" in your shell \n",
    "# before starting jupyter notebook to provide the password for the user \"neo4j\". \n",
    "# It is not recommended to hardcode the password into jupyter notebook for security reasons.\n",
    "\n",
    "driver = GraphDatabase.driver(uri=\"bolt://localhost:7687\", auth=(\"neo4j\", os.environ.get(\"NEO4J_INITIAL_PASSWORD\")))\n",
    "driver.verify_connectivity()"
   ]
  },
  {
   "cell_type": "code",
   "execution_count": 4,
   "id": "c1db254b",
   "metadata": {
    "execution": {
     "iopub.execute_input": "2025-02-15T22:51:01.234056Z",
     "iopub.status.busy": "2025-02-15T22:51:01.233786Z",
     "iopub.status.idle": "2025-02-15T22:51:01.236178Z",
     "shell.execute_reply": "2025-02-15T22:51:01.235804Z"
    }
   },
   "outputs": [],
   "source": [
    "def get_cypher_query_from_file(filename):\n",
    "    with open(filename) as file:\n",
    "        return ' '.join(file.readlines())"
   ]
  },
  {
   "cell_type": "code",
   "execution_count": 5,
   "id": "59310f6f",
   "metadata": {
    "execution": {
     "iopub.execute_input": "2025-02-15T22:51:01.237569Z",
     "iopub.status.busy": "2025-02-15T22:51:01.237411Z",
     "iopub.status.idle": "2025-02-15T22:51:01.240422Z",
     "shell.execute_reply": "2025-02-15T22:51:01.239878Z"
    }
   },
   "outputs": [],
   "source": [
    "def query_cypher_to_data_frame(filename, parameters_: typ.Optional[typ.Dict[str, typ.Any]] = None):\n",
    "    records, summary, keys = driver.execute_query(get_cypher_query_from_file(filename),parameters_=parameters_)\n",
    "    return pd.DataFrame([r.values() for r in records], columns=keys)"
   ]
  },
  {
   "cell_type": "code",
   "execution_count": 6,
   "id": "bd1d9775",
   "metadata": {
    "execution": {
     "iopub.execute_input": "2025-02-15T22:51:01.242171Z",
     "iopub.status.busy": "2025-02-15T22:51:01.241800Z",
     "iopub.status.idle": "2025-02-15T22:51:01.244626Z",
     "shell.execute_reply": "2025-02-15T22:51:01.244246Z"
    }
   },
   "outputs": [],
   "source": [
    "def query_first_non_empty_cypher_to_data_frame(*filenames : str, parameters: typ.Optional[typ.Dict[str, typ.Any]] = None):\n",
    "    \"\"\"\n",
    "    Executes the Cypher queries of the given files and returns the first result that is not empty.\n",
    "    If all given file names result in empty results, the last (empty) result will be returned.\n",
    "    By additionally specifying \"limit=\" the \"LIMIT\" keyword will appended to query so that only the first results get returned.\n",
    "    \"\"\"\n",
    "    result=pd.DataFrame()\n",
    "    for filename in filenames:\n",
    "        result=query_cypher_to_data_frame(filename, parameters)\n",
    "        if not result.empty:\n",
    "            print(\"The results have been provided by the query filename: \" + filename)\n",
    "            return result\n",
    "    return result"
   ]
  },
  {
   "cell_type": "code",
   "execution_count": 7,
   "id": "7d2e62d6",
   "metadata": {
    "execution": {
     "iopub.execute_input": "2025-02-15T22:51:01.246115Z",
     "iopub.status.busy": "2025-02-15T22:51:01.245958Z",
     "iopub.status.idle": "2025-02-15T22:51:01.248982Z",
     "shell.execute_reply": "2025-02-15T22:51:01.248575Z"
    }
   },
   "outputs": [],
   "source": [
    "# TODO option to choose between directed and undirected projection\n",
    "\n",
    "def create_undirected_projection(parameters: dict) -> bool: \n",
    "    \"\"\"\n",
    "    Creates an undirected homogenous in-memory Graph projection for/with Neo4j Graph Data Science Plugin.\n",
    "    It returns True if there is data available for the given parameter and False otherwise.\n",
    "    Parameters\n",
    "    ----------\n",
    "    dependencies_projection : str\n",
    "        The name prefix for the in-memory projection for dependencies. Example: \"java-package-embeddings-notebook\"\n",
    "    dependencies_projection_node : str\n",
    "        The label of the nodes that will be used for the projection. Example: \"Package\"\n",
    "    dependencies_projection_weight_property : str\n",
    "        The name of the node property that contains the dependency weight. Example: \"weight25PercentInterfaces\"\n",
    "    dependencies_projection_embedding_dimension : str\n",
    "        The number of the dimensions and therefore size of the resulting array of floating point numbers\n",
    "    \"\"\"\n",
    "    \n",
    "    is_data_missing=query_cypher_to_data_frame(\"../cypher/Dependencies_Projection/Dependencies_0_Check_Projectable.cypher\", parameters).empty\n",
    "    if is_data_missing: return False\n",
    "\n",
    "    query_cypher_to_data_frame(\"../cypher/Dependencies_Projection/Dependencies_1_Delete_Projection.cypher\", parameters)\n",
    "    query_cypher_to_data_frame(\"../cypher/Dependencies_Projection/Dependencies_2_Delete_Subgraph.cypher\", parameters)\n",
    "    # To include the direction of the relationships use the following line to create the projection:\n",
    "    # query_cypher_to_data_frame(\"../cypher/Dependencies_Projection/Dependencies_3_Create_Projection.cypher\", parameters)\n",
    "    query_cypher_to_data_frame(\"../cypher/Dependencies_Projection/Dependencies_4_Create_Undirected_Projection.cypher\", parameters)\n",
    "    query_cypher_to_data_frame(\"../cypher/Dependencies_Projection/Dependencies_5_Create_Subgraph.cypher\", parameters)\n",
    "    return True"
   ]
  },
  {
   "cell_type": "code",
   "execution_count": 8,
   "id": "1aa86093",
   "metadata": {
    "execution": {
     "iopub.execute_input": "2025-02-15T22:51:01.250322Z",
     "iopub.status.busy": "2025-02-15T22:51:01.250167Z",
     "iopub.status.idle": "2025-02-15T22:51:01.253556Z",
     "shell.execute_reply": "2025-02-15T22:51:01.253134Z"
    }
   },
   "outputs": [],
   "source": [
    "# Feature ideas\n",
    "# TODO option to choose between directed and undirected projection\n",
    "# TODO option to not read already existing node embeddings to experiment with different (hpyer) parameters\n",
    "# TODO run a community detection algorithm co-located in here when \"communityId\" is missing\n",
    "# TODO run a centrality algorithm co-located in here when \"centrality\" score is missing\n",
    "\n",
    "def create_node_embeddings(cypher_file_name: str, parameters: dict) -> pd.DataFrame: \n",
    "    \"\"\"\n",
    "    Creates an in-memory Graph projection by calling \"create_undirected_projection\", \n",
    "    runs the cypher Query given as cypherFileName parameter to calculate and stream the node embeddings\n",
    "    and returns a DataFrame with the results.\n",
    "    \n",
    "    cypher_file_name\n",
    "    ----------\n",
    "    Name of the file containing the Cypher query that executes node embeddings procedure.\n",
    "\n",
    "    parameters\n",
    "    ----------\n",
    "    dependencies_projection : str\n",
    "        The name prefix for the in-memory projection for dependencies. Example: \"java-package-embeddings-notebook\"\n",
    "    dependencies_projection_node : str\n",
    "        The label of the nodes that will be used for the projection. Example: \"Package\"\n",
    "    dependencies_projection_weight_property : str\n",
    "        The name of the node property that contains the dependency weight. Example: \"weight25PercentInterfaces\"\n",
    "    dependencies_projection_embedding_dimension : str\n",
    "        The number of the dimensions and therefore size of the resulting array of floating point numbers\n",
    "    \"\"\"\n",
    "    \n",
    "    is_data_available=create_undirected_projection(parameters)\n",
    "    \n",
    "    if not is_data_available:\n",
    "        print(\"No projected data for node embeddings calculation available\")\n",
    "        empty_result = pd.DataFrame(columns=[\"codeUnitName\", 'projectName', 'communityId', 'centrality', 'embedding'])\n",
    "        return empty_result\n",
    "\n",
    "    existing_embeddings_query_filename=\"../cypher/Node_Embeddings/Node_Embeddings_0a_Query_Calculated.cypher\"\n",
    "    embeddings = query_first_non_empty_cypher_to_data_frame(existing_embeddings_query_filename, cypher_file_name, parameters=parameters)\n",
    "    display(embeddings.head()) # Display the first entries of the table\n",
    "    return embeddings"
   ]
  },
  {
   "cell_type": "markdown",
   "id": "f6ec6a9b",
   "metadata": {},
   "source": [
    "### Dimensionality reduction with t-distributed stochastic neighbor embedding (t-SNE)\n",
    "\n",
    "The following function takes the original node embeddings with a higher dimensionality, e.g. 64 floating point numbers, and reduces them into a two dimensional array for visualization. \n",
    "\n",
    "> It converts similarities between data points to joint probabilities and tries to minimize the Kullback-Leibler divergence between the joint probabilities of the low-dimensional embedding and the high-dimensional data.\n",
    "\n",
    "(see https://opentsne.readthedocs.io)"
   ]
  },
  {
   "cell_type": "code",
   "execution_count": 9,
   "id": "720aebd3",
   "metadata": {
    "execution": {
     "iopub.execute_input": "2025-02-15T22:51:01.255105Z",
     "iopub.status.busy": "2025-02-15T22:51:01.254935Z",
     "iopub.status.idle": "2025-02-15T22:51:01.258745Z",
     "shell.execute_reply": "2025-02-15T22:51:01.258265Z"
    }
   },
   "outputs": [],
   "source": [
    "def prepare_node_embeddings_for_2d_visualization(embeddings: pd.DataFrame) -> pd.DataFrame:\n",
    "    \"\"\"\n",
    "    Reduces the dimensionality of the node embeddings (e.g. 64 floating point numbers in an array)\n",
    "    to two dimensions for 2D visualization.\n",
    "    see https://opentsne.readthedocs.io\n",
    "    \"\"\"\n",
    "\n",
    "    if embeddings.empty: \n",
    "        print(\"No projected data for node embeddings dimensionality reduction available\")\n",
    "        return embeddings\n",
    "    \n",
    "    # Calling the fit_transform method just with a list doesn't seem to work (anymore?). \n",
    "    # It leads to an error with the following message: 'list' object has no attribute 'shape'\n",
    "    # This can be solved by converting the list to a numpy array using np.array(..).\n",
    "    # See https://bobbyhadz.com/blog/python-attributeerror-list-object-has-no-attribute-shape\n",
    "    embeddings_as_numpy_array = np.array(embeddings.embedding.to_list())\n",
    "\n",
    "    # Use t-distributed stochastic neighbor embedding (t-SNE) to reduce the dimensionality \n",
    "    # of the previously calculated node embeddings to 2 dimensions for visualization\n",
    "    t_distributed_stochastic_neighbor_embedding = TSNE(n_components=2, verbose=1, random_state=47)\n",
    "    two_dimension_node_embeddings = t_distributed_stochastic_neighbor_embedding.fit_transform(embeddings_as_numpy_array)\n",
    "    display(two_dimension_node_embeddings.shape) # Display the shape of the t-SNE result\n",
    "\n",
    "    # Create a new DataFrame with the results of the 2 dimensional node embeddings\n",
    "    # and the code unit and artifact name of the query above as preparation for the plot\n",
    "    node_embeddings_for_visualization = pd.DataFrame(data = {\n",
    "        \"codeUnit\": embeddings.codeUnitName,\n",
    "        \"artifact\": embeddings.projectName,\n",
    "        \"communityId\": embeddings.communityId,\n",
    "        \"centrality\": embeddings.centrality,\n",
    "        \"x\": [value[0] for value in two_dimension_node_embeddings],\n",
    "        \"y\": [value[1] for value in two_dimension_node_embeddings]\n",
    "    })\n",
    "    display(node_embeddings_for_visualization.head()) # Display the first line of the results\n",
    "    return node_embeddings_for_visualization\n",
    "    "
   ]
  },
  {
   "cell_type": "code",
   "execution_count": 10,
   "id": "d937e26e",
   "metadata": {
    "execution": {
     "iopub.execute_input": "2025-02-15T22:51:01.260455Z",
     "iopub.status.busy": "2025-02-15T22:51:01.260064Z",
     "iopub.status.idle": "2025-02-15T22:51:01.262983Z",
     "shell.execute_reply": "2025-02-15T22:51:01.262508Z"
    }
   },
   "outputs": [],
   "source": [
    "def plot_2d_node_embeddings(node_embeddings_for_visualization: pd.DataFrame, title: str):\n",
    "    if embeddings.empty:\n",
    "        print(\"No projected data to plot available\")\n",
    "        return\n",
    "\n",
    "    plot.scatter(\n",
    "        x=node_embeddings_for_visualization.x,\n",
    "        y=node_embeddings_for_visualization.y,\n",
    "        s=node_embeddings_for_visualization.centrality * 300,\n",
    "        c=node_embeddings_for_visualization.communityId,\n",
    "        cmap=main_color_map,\n",
    "    )\n",
    "    plot.title(title)\n",
    "    plot.show()"
   ]
  },
  {
   "cell_type": "code",
   "execution_count": 11,
   "id": "da9e8edb",
   "metadata": {
    "execution": {
     "iopub.execute_input": "2025-02-15T22:51:01.264525Z",
     "iopub.status.busy": "2025-02-15T22:51:01.264277Z",
     "iopub.status.idle": "2025-02-15T22:51:01.266580Z",
     "shell.execute_reply": "2025-02-15T22:51:01.266118Z"
    }
   },
   "outputs": [],
   "source": [
    "#The following cell uses the build-in %html \"magic\" to override the CSS style for tables to a much smaller size.\n",
    "#This is especially needed for PDF export of tables with multiple columns."
   ]
  },
  {
   "cell_type": "code",
   "execution_count": 12,
   "id": "9deaabce",
   "metadata": {
    "execution": {
     "iopub.execute_input": "2025-02-15T22:51:01.268000Z",
     "iopub.status.busy": "2025-02-15T22:51:01.267837Z",
     "iopub.status.idle": "2025-02-15T22:51:01.273054Z",
     "shell.execute_reply": "2025-02-15T22:51:01.272612Z"
    }
   },
   "outputs": [
    {
     "data": {
      "text/html": [
       "<style>\n",
       "/* CSS style for smaller dataframe tables. */\n",
       ".dataframe th {\n",
       "    font-size: 8px;\n",
       "}\n",
       ".dataframe td {\n",
       "    font-size: 8px;\n",
       "}\n",
       "</style>\n"
      ],
      "text/plain": [
       "<IPython.core.display.HTML object>"
      ]
     },
     "metadata": {},
     "output_type": "display_data"
    }
   ],
   "source": [
    "%%html\n",
    "<style>\n",
    "/* CSS style for smaller dataframe tables. */\n",
    ".dataframe th {\n",
    "    font-size: 8px;\n",
    "}\n",
    ".dataframe td {\n",
    "    font-size: 8px;\n",
    "}\n",
    "</style>"
   ]
  },
  {
   "cell_type": "code",
   "execution_count": 13,
   "id": "c2496caf",
   "metadata": {
    "execution": {
     "iopub.execute_input": "2025-02-15T22:51:01.274344Z",
     "iopub.status.busy": "2025-02-15T22:51:01.274189Z",
     "iopub.status.idle": "2025-02-15T22:51:01.276453Z",
     "shell.execute_reply": "2025-02-15T22:51:01.276059Z"
    }
   },
   "outputs": [],
   "source": [
    "# Main Colormap\n",
    "main_color_map = 'nipy_spectral'"
   ]
  },
  {
   "cell_type": "markdown",
   "id": "0c68aa20",
   "metadata": {},
   "source": [
    "## 1. Java Packages"
   ]
  },
  {
   "cell_type": "markdown",
   "id": "145dca19",
   "metadata": {},
   "source": [
    "### 1.1 Generate Node Embeddings using Fast Random Projection (Fast RP) for Java Packages\n",
    "\n",
    "[Fast Random Projection](https://neo4j.com/docs/graph-data-science/current/machine-learning/node-embeddings/fastrp) is used to reduce the dimensionality of the node feature space while preserving most of the distance information. Nodes with similar neighborhood result in node embedding with similar vectors.\n",
    "\n",
    "**👉Hint:** To skip existing node embeddings and always calculate them based on the parameters below edit `Node_Embeddings_0a_Query_Calculated` so that it won't return any results."
   ]
  },
  {
   "cell_type": "code",
   "execution_count": 14,
   "id": "8efca2cf",
   "metadata": {
    "execution": {
     "iopub.execute_input": "2025-02-15T22:51:01.277913Z",
     "iopub.status.busy": "2025-02-15T22:51:01.277762Z",
     "iopub.status.idle": "2025-02-15T22:51:01.588041Z",
     "shell.execute_reply": "2025-02-15T22:51:01.587551Z"
    }
   },
   "outputs": [
    {
     "name": "stderr",
     "output_type": "stream",
     "text": [
      "Received notification from DBMS server: {severity: WARNING} {code: Neo.ClientNotification.Statement.UnknownRelationshipTypeWarning} {category: UNRECOGNIZED} {title: The provided relationship type is not in the database.} {description: One of the relationship types in your query is not available in the database, make sure you didn't misspell it or that the label is available when you run this statement in your application (the missing relationship type is: HAS_ROOT)} {position: line: 9, column: 44, offset: 696} for query: '// Query already calculated and written node embeddings on nodes with label in parameter $dependencies_projection_node including a communityId and centrality. Variables: dependencies_projection_node, dependencies_projection_write_property. Requires \"Add_file_name and_extension.cypher\".\\n \\n  MATCH (codeUnit)\\n  WHERE $dependencies_projection_node IN LABELS(codeUnit)\\n    AND codeUnit[$dependencies_projection_write_property] IS NOT NULL\\n    // AND codeUnit.notExistingToForceRecalculation IS NOT NULL // uncomment this line to force recalculation\\n OPTIONAL MATCH (artifact:Java:Artifact)-[:CONTAINS]->(codeUnit)\\n    WITH *, artifact.name AS artifactName\\n OPTIONAL MATCH (projectRoot:Directory)<-[:HAS_ROOT]-(proj:TS:Project)-[:CONTAINS]->(codeUnit)\\n    WITH *, last(split(projectRoot.absoluteFileName, \\'/\\')) AS projectName   \\n  RETURN DISTINCT \\n         coalesce(codeUnit.fqn, codeUnit.globalFqn, codeUnit.fileName, codeUnit.signature, codeUnit.name) AS codeUnitName\\n        ,codeUnit.name                AS shortCodeUnitName\\n        ,coalesce(artifactName, projectName)                                                              AS projectName\\n        ,coalesce(codeUnit.communityLeidenId, 0)           AS communityId\\n        ,coalesce(codeUnit.centralityPageRank, 0.01)       AS centrality\\n        ,codeUnit[$dependencies_projection_write_property] AS embedding\\n   ORDER BY communityId'\n"
     ]
    },
    {
     "name": "stdout",
     "output_type": "stream",
     "text": [
      "The results have been provided by the query filename: ../cypher/Node_Embeddings/Node_Embeddings_0a_Query_Calculated.cypher\n"
     ]
    },
    {
     "data": {
      "text/html": [
       "<div>\n",
       "<style scoped>\n",
       "    .dataframe tbody tr th:only-of-type {\n",
       "        vertical-align: middle;\n",
       "    }\n",
       "\n",
       "    .dataframe tbody tr th {\n",
       "        vertical-align: top;\n",
       "    }\n",
       "\n",
       "    .dataframe thead th {\n",
       "        text-align: right;\n",
       "    }\n",
       "</style>\n",
       "<table border=\"1\" class=\"dataframe\">\n",
       "  <thead>\n",
       "    <tr style=\"text-align: right;\">\n",
       "      <th></th>\n",
       "      <th>codeUnitName</th>\n",
       "      <th>shortCodeUnitName</th>\n",
       "      <th>projectName</th>\n",
       "      <th>communityId</th>\n",
       "      <th>centrality</th>\n",
       "      <th>embedding</th>\n",
       "    </tr>\n",
       "  </thead>\n",
       "  <tbody>\n",
       "    <tr>\n",
       "      <th>0</th>\n",
       "      <td>org.axonframework.config</td>\n",
       "      <td>config</td>\n",
       "      <td>axon-configuration-4.10.3</td>\n",
       "      <td>0</td>\n",
       "      <td>0.047302</td>\n",
       "      <td>[0.05093193054199219, -0.3450390100479126, -0....</td>\n",
       "    </tr>\n",
       "    <tr>\n",
       "      <th>1</th>\n",
       "      <td>org.axonframework.eventsourcing.eventstore</td>\n",
       "      <td>eventstore</td>\n",
       "      <td>axon-eventsourcing-4.10.3</td>\n",
       "      <td>0</td>\n",
       "      <td>0.037034</td>\n",
       "      <td>[-0.2022514045238495, -0.11786514520645142, -0...</td>\n",
       "    </tr>\n",
       "    <tr>\n",
       "      <th>2</th>\n",
       "      <td>org.axonframework.eventsourcing.eventstore.inm...</td>\n",
       "      <td>inmemory</td>\n",
       "      <td>axon-eventsourcing-4.10.3</td>\n",
       "      <td>0</td>\n",
       "      <td>0.012211</td>\n",
       "      <td>[0.11336085945367813, -0.14701107144355774, -0...</td>\n",
       "    </tr>\n",
       "    <tr>\n",
       "      <th>3</th>\n",
       "      <td>org.axonframework.eventsourcing.eventstore.jdbc</td>\n",
       "      <td>jdbc</td>\n",
       "      <td>axon-eventsourcing-4.10.3</td>\n",
       "      <td>0</td>\n",
       "      <td>0.023525</td>\n",
       "      <td>[-0.5276236534118652, 0.09687726944684982, -0....</td>\n",
       "    </tr>\n",
       "    <tr>\n",
       "      <th>4</th>\n",
       "      <td>org.axonframework.eventsourcing.eventstore.jdb...</td>\n",
       "      <td>statements</td>\n",
       "      <td>axon-eventsourcing-4.10.3</td>\n",
       "      <td>0</td>\n",
       "      <td>0.015345</td>\n",
       "      <td>[-0.5550099611282349, 0.19112810492515564, -0....</td>\n",
       "    </tr>\n",
       "  </tbody>\n",
       "</table>\n",
       "</div>"
      ],
      "text/plain": [
       "                                        codeUnitName shortCodeUnitName  \\\n",
       "0                           org.axonframework.config            config   \n",
       "1         org.axonframework.eventsourcing.eventstore        eventstore   \n",
       "2  org.axonframework.eventsourcing.eventstore.inm...          inmemory   \n",
       "3    org.axonframework.eventsourcing.eventstore.jdbc              jdbc   \n",
       "4  org.axonframework.eventsourcing.eventstore.jdb...        statements   \n",
       "\n",
       "                 projectName  communityId  centrality  \\\n",
       "0  axon-configuration-4.10.3            0    0.047302   \n",
       "1  axon-eventsourcing-4.10.3            0    0.037034   \n",
       "2  axon-eventsourcing-4.10.3            0    0.012211   \n",
       "3  axon-eventsourcing-4.10.3            0    0.023525   \n",
       "4  axon-eventsourcing-4.10.3            0    0.015345   \n",
       "\n",
       "                                           embedding  \n",
       "0  [0.05093193054199219, -0.3450390100479126, -0....  \n",
       "1  [-0.2022514045238495, -0.11786514520645142, -0...  \n",
       "2  [0.11336085945367813, -0.14701107144355774, -0...  \n",
       "3  [-0.5276236534118652, 0.09687726944684982, -0....  \n",
       "4  [-0.5550099611282349, 0.19112810492515564, -0....  "
      ]
     },
     "metadata": {},
     "output_type": "display_data"
    }
   ],
   "source": [
    "java_package_embeddings_parameters={\n",
    "    \"dependencies_projection\": \"java-package-embeddings-notebook\",\n",
    "    \"dependencies_projection_node\": \"Package\",\n",
    "    \"dependencies_projection_weight_property\": \"weight25PercentInterfaces\",\n",
    "    \"dependencies_projection_write_property\": \"embeddingsFastRandomProjection\",\n",
    "    \"dependencies_projection_embedding_dimension\":\"32\"\n",
    "}\n",
    "embeddings = create_node_embeddings(\"../cypher/Node_Embeddings/Node_Embeddings_1d_Fast_Random_Projection_Stream.cypher\", java_package_embeddings_parameters)\n"
   ]
  },
  {
   "cell_type": "markdown",
   "id": "76d8bca1",
   "metadata": {},
   "source": [
    "### 1.2 Dimensionality reduction with t-distributed stochastic neighbor embedding (t-SNE)\n",
    "\n",
    "This step takes the original node embeddings with a higher dimensionality, e.g. 64 floating point numbers, and reduces them into a two dimensional array for visualization. For more details look up the function declaration for \"prepare_node_embeddings_for_2d_visualization\"."
   ]
  },
  {
   "cell_type": "code",
   "execution_count": 15,
   "id": "031abacc",
   "metadata": {
    "execution": {
     "iopub.execute_input": "2025-02-15T22:51:01.589710Z",
     "iopub.status.busy": "2025-02-15T22:51:01.589538Z",
     "iopub.status.idle": "2025-02-15T22:51:02.186307Z",
     "shell.execute_reply": "2025-02-15T22:51:02.185916Z"
    }
   },
   "outputs": [
    {
     "name": "stdout",
     "output_type": "stream",
     "text": [
      "--------------------------------------------------------------------------------\n",
      "TSNE(early_exaggeration=12, random_state=47, verbose=1)\n",
      "--------------------------------------------------------------------------------\n",
      "===> Finding 90 nearest neighbors using exact search using euclidean distance...\n",
      "   --> Time elapsed: 0.03 seconds\n",
      "===> Calculating affinity matrix...\n",
      "   --> Time elapsed: 0.00 seconds\n",
      "===> Calculating PCA-based initialization...\n",
      "   --> Time elapsed: 0.00 seconds\n",
      "===> Running optimization with exaggeration=12.00, lr=9.50 for 250 iterations...\n",
      "Iteration   50, KL divergence -0.8292, 50 iterations in 0.0409 sec\n",
      "Iteration  100, KL divergence 1.2013, 50 iterations in 0.0108 sec\n",
      "Iteration  150, KL divergence 1.2013, 50 iterations in 0.0100 sec\n",
      "Iteration  200, KL divergence 1.2013, 50 iterations in 0.0100 sec\n",
      "Iteration  250, KL divergence 1.2013, 50 iterations in 0.0100 sec\n",
      "   --> Time elapsed: 0.08 seconds\n",
      "===> Running optimization with exaggeration=1.00, lr=114.00 for 500 iterations...\n",
      "Iteration   50, KL divergence 0.1864, 50 iterations in 0.0363 sec\n"
     ]
    },
    {
     "name": "stdout",
     "output_type": "stream",
     "text": [
      "Iteration  100, KL divergence 0.1678, 50 iterations in 0.0498 sec\n",
      "Iteration  150, KL divergence 0.1615, 50 iterations in 0.0477 sec\n",
      "Iteration  200, KL divergence 0.1606, 50 iterations in 0.0473 sec\n",
      "Iteration  250, KL divergence 0.1606, 50 iterations in 0.0460 sec\n",
      "Iteration  300, KL divergence 0.1605, 50 iterations in 0.0472 sec\n"
     ]
    },
    {
     "name": "stdout",
     "output_type": "stream",
     "text": [
      "Iteration  350, KL divergence 0.1604, 50 iterations in 0.0480 sec\n",
      "Iteration  400, KL divergence 0.1604, 50 iterations in 0.0480 sec\n",
      "Iteration  450, KL divergence 0.1604, 50 iterations in 0.0483 sec\n",
      "Iteration  500, KL divergence 0.1602, 50 iterations in 0.0484 sec\n",
      "   --> Time elapsed: 0.47 seconds\n"
     ]
    },
    {
     "data": {
      "text/plain": [
       "(114, 2)"
      ]
     },
     "metadata": {},
     "output_type": "display_data"
    },
    {
     "data": {
      "text/html": [
       "<div>\n",
       "<style scoped>\n",
       "    .dataframe tbody tr th:only-of-type {\n",
       "        vertical-align: middle;\n",
       "    }\n",
       "\n",
       "    .dataframe tbody tr th {\n",
       "        vertical-align: top;\n",
       "    }\n",
       "\n",
       "    .dataframe thead th {\n",
       "        text-align: right;\n",
       "    }\n",
       "</style>\n",
       "<table border=\"1\" class=\"dataframe\">\n",
       "  <thead>\n",
       "    <tr style=\"text-align: right;\">\n",
       "      <th></th>\n",
       "      <th>codeUnit</th>\n",
       "      <th>artifact</th>\n",
       "      <th>communityId</th>\n",
       "      <th>centrality</th>\n",
       "      <th>x</th>\n",
       "      <th>y</th>\n",
       "    </tr>\n",
       "  </thead>\n",
       "  <tbody>\n",
       "    <tr>\n",
       "      <th>0</th>\n",
       "      <td>org.axonframework.config</td>\n",
       "      <td>axon-configuration-4.10.3</td>\n",
       "      <td>0</td>\n",
       "      <td>0.047302</td>\n",
       "      <td>0.583090</td>\n",
       "      <td>-0.461692</td>\n",
       "    </tr>\n",
       "    <tr>\n",
       "      <th>1</th>\n",
       "      <td>org.axonframework.eventsourcing.eventstore</td>\n",
       "      <td>axon-eventsourcing-4.10.3</td>\n",
       "      <td>0</td>\n",
       "      <td>0.037034</td>\n",
       "      <td>-1.407498</td>\n",
       "      <td>-3.080751</td>\n",
       "    </tr>\n",
       "    <tr>\n",
       "      <th>2</th>\n",
       "      <td>org.axonframework.eventsourcing.eventstore.inm...</td>\n",
       "      <td>axon-eventsourcing-4.10.3</td>\n",
       "      <td>0</td>\n",
       "      <td>0.012211</td>\n",
       "      <td>0.556425</td>\n",
       "      <td>-4.255352</td>\n",
       "    </tr>\n",
       "    <tr>\n",
       "      <th>3</th>\n",
       "      <td>org.axonframework.eventsourcing.eventstore.jdbc</td>\n",
       "      <td>axon-eventsourcing-4.10.3</td>\n",
       "      <td>0</td>\n",
       "      <td>0.023525</td>\n",
       "      <td>-4.245894</td>\n",
       "      <td>-3.167850</td>\n",
       "    </tr>\n",
       "    <tr>\n",
       "      <th>4</th>\n",
       "      <td>org.axonframework.eventsourcing.eventstore.jdb...</td>\n",
       "      <td>axon-eventsourcing-4.10.3</td>\n",
       "      <td>0</td>\n",
       "      <td>0.015345</td>\n",
       "      <td>-4.240696</td>\n",
       "      <td>-3.159957</td>\n",
       "    </tr>\n",
       "  </tbody>\n",
       "</table>\n",
       "</div>"
      ],
      "text/plain": [
       "                                            codeUnit  \\\n",
       "0                           org.axonframework.config   \n",
       "1         org.axonframework.eventsourcing.eventstore   \n",
       "2  org.axonframework.eventsourcing.eventstore.inm...   \n",
       "3    org.axonframework.eventsourcing.eventstore.jdbc   \n",
       "4  org.axonframework.eventsourcing.eventstore.jdb...   \n",
       "\n",
       "                    artifact  communityId  centrality         x         y  \n",
       "0  axon-configuration-4.10.3            0    0.047302  0.583090 -0.461692  \n",
       "1  axon-eventsourcing-4.10.3            0    0.037034 -1.407498 -3.080751  \n",
       "2  axon-eventsourcing-4.10.3            0    0.012211  0.556425 -4.255352  \n",
       "3  axon-eventsourcing-4.10.3            0    0.023525 -4.245894 -3.167850  \n",
       "4  axon-eventsourcing-4.10.3            0    0.015345 -4.240696 -3.159957  "
      ]
     },
     "metadata": {},
     "output_type": "display_data"
    }
   ],
   "source": [
    "node_embeddings_for_visualization = prepare_node_embeddings_for_2d_visualization(embeddings)"
   ]
  },
  {
   "cell_type": "markdown",
   "id": "f908c47f",
   "metadata": {},
   "source": [
    "### 1.3 Visualization of the node embeddings reduced to two dimensions"
   ]
  },
  {
   "cell_type": "code",
   "execution_count": 16,
   "id": "459a819c",
   "metadata": {
    "execution": {
     "iopub.execute_input": "2025-02-15T22:51:02.187883Z",
     "iopub.status.busy": "2025-02-15T22:51:02.187711Z",
     "iopub.status.idle": "2025-02-15T22:51:02.293918Z",
     "shell.execute_reply": "2025-02-15T22:51:02.293547Z"
    }
   },
   "outputs": [
    {
     "data": {
      "image/png": "[encoded data removed]",
      "text/plain": [
       "<Figure size 640x480 with 1 Axes>"
      ]
     },
     "metadata": {},
     "output_type": "display_data"
    }
   ],
   "source": [
    "plot_2d_node_embeddings(\n",
    "    node_embeddings_for_visualization, \n",
    "    \"Java Package positioned by their dependency relationships (FastRP node embeddings + t-SNE)\"\n",
    ")"
   ]
  },
  {
   "cell_type": "markdown",
   "id": "b690b9a7",
   "metadata": {},
   "source": [
    "### 1.4 Node Embeddings for Java Packages using HashGNN\n",
    "\n",
    "[HashGNN](https://neo4j.com/docs/graph-data-science/2.6/machine-learning/node-embeddings/hashgnn) resembles Graph Neural Networks (GNN) but does not include a model or require training. It combines ideas of GNNs and fast randomized algorithms. For more details see [HashGNN](https://neo4j.com/docs/graph-data-science/2.6/machine-learning/node-embeddings/hashgnn). Here, the latter 3 steps are combined into one for HashGNN."
   ]
  },
  {
   "cell_type": "code",
   "execution_count": 17,
   "id": "3d3cfb7a",
   "metadata": {
    "execution": {
     "iopub.execute_input": "2025-02-15T22:51:02.295611Z",
     "iopub.status.busy": "2025-02-15T22:51:02.295311Z",
     "iopub.status.idle": "2025-02-15T22:51:03.411087Z",
     "shell.execute_reply": "2025-02-15T22:51:03.410683Z"
    }
   },
   "outputs": [
    {
     "name": "stderr",
     "output_type": "stream",
     "text": [
      "Received notification from DBMS server: {severity: WARNING} {code: Neo.ClientNotification.Statement.UnknownRelationshipTypeWarning} {category: UNRECOGNIZED} {title: The provided relationship type is not in the database.} {description: One of the relationship types in your query is not available in the database, make sure you didn't misspell it or that the label is available when you run this statement in your application (the missing relationship type is: HAS_ROOT)} {position: line: 9, column: 44, offset: 696} for query: '// Query already calculated and written node embeddings on nodes with label in parameter $dependencies_projection_node including a communityId and centrality. Variables: dependencies_projection_node, dependencies_projection_write_property. Requires \"Add_file_name and_extension.cypher\".\\n \\n  MATCH (codeUnit)\\n  WHERE $dependencies_projection_node IN LABELS(codeUnit)\\n    AND codeUnit[$dependencies_projection_write_property] IS NOT NULL\\n    // AND codeUnit.notExistingToForceRecalculation IS NOT NULL // uncomment this line to force recalculation\\n OPTIONAL MATCH (artifact:Java:Artifact)-[:CONTAINS]->(codeUnit)\\n    WITH *, artifact.name AS artifactName\\n OPTIONAL MATCH (projectRoot:Directory)<-[:HAS_ROOT]-(proj:TS:Project)-[:CONTAINS]->(codeUnit)\\n    WITH *, last(split(projectRoot.absoluteFileName, \\'/\\')) AS projectName   \\n  RETURN DISTINCT \\n         coalesce(codeUnit.fqn, codeUnit.globalFqn, codeUnit.fileName, codeUnit.signature, codeUnit.name) AS codeUnitName\\n        ,codeUnit.name                AS shortCodeUnitName\\n        ,coalesce(artifactName, projectName)                                                              AS projectName\\n        ,coalesce(codeUnit.communityLeidenId, 0)           AS communityId\\n        ,coalesce(codeUnit.centralityPageRank, 0.01)       AS centrality\\n        ,codeUnit[$dependencies_projection_write_property] AS embedding\\n   ORDER BY communityId'\n"
     ]
    },
    {
     "name": "stdout",
     "output_type": "stream",
     "text": [
      "The results have been provided by the query filename: ../cypher/Node_Embeddings/Node_Embeddings_0a_Query_Calculated.cypher\n"
     ]
    },
    {
     "data": {
      "text/html": [
       "<div>\n",
       "<style scoped>\n",
       "    .dataframe tbody tr th:only-of-type {\n",
       "        vertical-align: middle;\n",
       "    }\n",
       "\n",
       "    .dataframe tbody tr th {\n",
       "        vertical-align: top;\n",
       "    }\n",
       "\n",
       "    .dataframe thead th {\n",
       "        text-align: right;\n",
       "    }\n",
       "</style>\n",
       "<table border=\"1\" class=\"dataframe\">\n",
       "  <thead>\n",
       "    <tr style=\"text-align: right;\">\n",
       "      <th></th>\n",
       "      <th>codeUnitName</th>\n",
       "      <th>shortCodeUnitName</th>\n",
       "      <th>projectName</th>\n",
       "      <th>communityId</th>\n",
       "      <th>centrality</th>\n",
       "      <th>embedding</th>\n",
       "    </tr>\n",
       "  </thead>\n",
       "  <tbody>\n",
       "    <tr>\n",
       "      <th>0</th>\n",
       "      <td>org.axonframework.config</td>\n",
       "      <td>config</td>\n",
       "      <td>axon-configuration-4.10.3</td>\n",
       "      <td>0</td>\n",
       "      <td>0.047302</td>\n",
       "      <td>[-1.0825317353010178, -2.1650634706020355, -1....</td>\n",
       "    </tr>\n",
       "    <tr>\n",
       "      <th>1</th>\n",
       "      <td>org.axonframework.eventsourcing.eventstore</td>\n",
       "      <td>eventstore</td>\n",
       "      <td>axon-eventsourcing-4.10.3</td>\n",
       "      <td>0</td>\n",
       "      <td>0.037034</td>\n",
       "      <td>[0.6495190411806107, -1.7320507764816284, -0.4...</td>\n",
       "    </tr>\n",
       "    <tr>\n",
       "      <th>2</th>\n",
       "      <td>org.axonframework.eventsourcing.eventstore.inm...</td>\n",
       "      <td>inmemory</td>\n",
       "      <td>axon-eventsourcing-4.10.3</td>\n",
       "      <td>0</td>\n",
       "      <td>0.012211</td>\n",
       "      <td>[-1.2990380823612213, -0.21650634706020355, -0...</td>\n",
       "    </tr>\n",
       "    <tr>\n",
       "      <th>3</th>\n",
       "      <td>org.axonframework.eventsourcing.eventstore.jdbc</td>\n",
       "      <td>jdbc</td>\n",
       "      <td>axon-eventsourcing-4.10.3</td>\n",
       "      <td>0</td>\n",
       "      <td>0.023525</td>\n",
       "      <td>[-0.4330126941204071, -0.21650634706020355, -1...</td>\n",
       "    </tr>\n",
       "    <tr>\n",
       "      <th>4</th>\n",
       "      <td>org.axonframework.eventsourcing.eventstore.jdb...</td>\n",
       "      <td>statements</td>\n",
       "      <td>axon-eventsourcing-4.10.3</td>\n",
       "      <td>0</td>\n",
       "      <td>0.015345</td>\n",
       "      <td>[-1.0825317353010178, 0.0, -0.8660253882408142...</td>\n",
       "    </tr>\n",
       "  </tbody>\n",
       "</table>\n",
       "</div>"
      ],
      "text/plain": [
       "                                        codeUnitName shortCodeUnitName  \\\n",
       "0                           org.axonframework.config            config   \n",
       "1         org.axonframework.eventsourcing.eventstore        eventstore   \n",
       "2  org.axonframework.eventsourcing.eventstore.inm...          inmemory   \n",
       "3    org.axonframework.eventsourcing.eventstore.jdbc              jdbc   \n",
       "4  org.axonframework.eventsourcing.eventstore.jdb...        statements   \n",
       "\n",
       "                 projectName  communityId  centrality  \\\n",
       "0  axon-configuration-4.10.3            0    0.047302   \n",
       "1  axon-eventsourcing-4.10.3            0    0.037034   \n",
       "2  axon-eventsourcing-4.10.3            0    0.012211   \n",
       "3  axon-eventsourcing-4.10.3            0    0.023525   \n",
       "4  axon-eventsourcing-4.10.3            0    0.015345   \n",
       "\n",
       "                                           embedding  \n",
       "0  [-1.0825317353010178, -2.1650634706020355, -1....  \n",
       "1  [0.6495190411806107, -1.7320507764816284, -0.4...  \n",
       "2  [-1.2990380823612213, -0.21650634706020355, -0...  \n",
       "3  [-0.4330126941204071, -0.21650634706020355, -1...  \n",
       "4  [-1.0825317353010178, 0.0, -0.8660253882408142...  "
      ]
     },
     "metadata": {},
     "output_type": "display_data"
    },
    {
     "name": "stdout",
     "output_type": "stream",
     "text": [
      "--------------------------------------------------------------------------------\n",
      "TSNE(early_exaggeration=12, random_state=47, verbose=1)\n",
      "--------------------------------------------------------------------------------\n",
      "===> Finding 90 nearest neighbors using exact search using euclidean distance...\n",
      "   --> Time elapsed: 0.00 seconds\n",
      "===> Calculating affinity matrix...\n",
      "   --> Time elapsed: 0.00 seconds\n",
      "===> Calculating PCA-based initialization...\n",
      "   --> Time elapsed: 0.10 seconds\n",
      "===> Running optimization with exaggeration=12.00, lr=9.50 for 250 iterations...\n",
      "Iteration   50, KL divergence -0.2759, 50 iterations in 0.0695 sec\n"
     ]
    },
    {
     "name": "stdout",
     "output_type": "stream",
     "text": [
      "Iteration  100, KL divergence 1.2175, 50 iterations in 0.0303 sec\n",
      "Iteration  150, KL divergence 1.2175, 50 iterations in 0.0099 sec\n",
      "Iteration  200, KL divergence 1.2175, 50 iterations in 0.0097 sec\n",
      "Iteration  250, KL divergence 1.2175, 50 iterations in 0.0098 sec\n",
      "   --> Time elapsed: 0.13 seconds\n",
      "===> Running optimization with exaggeration=1.00, lr=114.00 for 500 iterations...\n",
      "Iteration   50, KL divergence 0.6213, 50 iterations in 0.0375 sec\n",
      "Iteration  100, KL divergence 0.6118, 50 iterations in 0.0492 sec\n",
      "Iteration  150, KL divergence 0.6076, 50 iterations in 0.0500 sec\n"
     ]
    },
    {
     "name": "stdout",
     "output_type": "stream",
     "text": [
      "Iteration  200, KL divergence 0.6044, 50 iterations in 0.0506 sec\n",
      "Iteration  250, KL divergence 0.6040, 50 iterations in 0.0512 sec\n",
      "Iteration  300, KL divergence 0.6044, 50 iterations in 0.0497 sec\n",
      "Iteration  350, KL divergence 0.6046, 50 iterations in 0.0495 sec\n",
      "Iteration  400, KL divergence 0.6047, 50 iterations in 0.0493 sec\n"
     ]
    },
    {
     "name": "stdout",
     "output_type": "stream",
     "text": [
      "Iteration  450, KL divergence 0.6046, 50 iterations in 0.0502 sec\n",
      "Iteration  500, KL divergence 0.6038, 50 iterations in 0.0501 sec\n",
      "   --> Time elapsed: 0.49 seconds\n"
     ]
    },
    {
     "data": {
      "text/plain": [
       "(114, 2)"
      ]
     },
     "metadata": {},
     "output_type": "display_data"
    },
    {
     "data": {
      "text/html": [
       "<div>\n",
       "<style scoped>\n",
       "    .dataframe tbody tr th:only-of-type {\n",
       "        vertical-align: middle;\n",
       "    }\n",
       "\n",
       "    .dataframe tbody tr th {\n",
       "        vertical-align: top;\n",
       "    }\n",
       "\n",
       "    .dataframe thead th {\n",
       "        text-align: right;\n",
       "    }\n",
       "</style>\n",
       "<table border=\"1\" class=\"dataframe\">\n",
       "  <thead>\n",
       "    <tr style=\"text-align: right;\">\n",
       "      <th></th>\n",
       "      <th>codeUnit</th>\n",
       "      <th>artifact</th>\n",
       "      <th>communityId</th>\n",
       "      <th>centrality</th>\n",
       "      <th>x</th>\n",
       "      <th>y</th>\n",
       "    </tr>\n",
       "  </thead>\n",
       "  <tbody>\n",
       "    <tr>\n",
       "      <th>0</th>\n",
       "      <td>org.axonframework.config</td>\n",
       "      <td>axon-configuration-4.10.3</td>\n",
       "      <td>0</td>\n",
       "      <td>0.047302</td>\n",
       "      <td>-4.265186</td>\n",
       "      <td>4.836691</td>\n",
       "    </tr>\n",
       "    <tr>\n",
       "      <th>1</th>\n",
       "      <td>org.axonframework.eventsourcing.eventstore</td>\n",
       "      <td>axon-eventsourcing-4.10.3</td>\n",
       "      <td>0</td>\n",
       "      <td>0.037034</td>\n",
       "      <td>3.493848</td>\n",
       "      <td>2.419350</td>\n",
       "    </tr>\n",
       "    <tr>\n",
       "      <th>2</th>\n",
       "      <td>org.axonframework.eventsourcing.eventstore.inm...</td>\n",
       "      <td>axon-eventsourcing-4.10.3</td>\n",
       "      <td>0</td>\n",
       "      <td>0.012211</td>\n",
       "      <td>-6.319843</td>\n",
       "      <td>-3.182643</td>\n",
       "    </tr>\n",
       "    <tr>\n",
       "      <th>3</th>\n",
       "      <td>org.axonframework.eventsourcing.eventstore.jdbc</td>\n",
       "      <td>axon-eventsourcing-4.10.3</td>\n",
       "      <td>0</td>\n",
       "      <td>0.023525</td>\n",
       "      <td>0.961259</td>\n",
       "      <td>2.051103</td>\n",
       "    </tr>\n",
       "    <tr>\n",
       "      <th>4</th>\n",
       "      <td>org.axonframework.eventsourcing.eventstore.jdb...</td>\n",
       "      <td>axon-eventsourcing-4.10.3</td>\n",
       "      <td>0</td>\n",
       "      <td>0.015345</td>\n",
       "      <td>1.957544</td>\n",
       "      <td>5.590578</td>\n",
       "    </tr>\n",
       "  </tbody>\n",
       "</table>\n",
       "</div>"
      ],
      "text/plain": [
       "                                            codeUnit  \\\n",
       "0                           org.axonframework.config   \n",
       "1         org.axonframework.eventsourcing.eventstore   \n",
       "2  org.axonframework.eventsourcing.eventstore.inm...   \n",
       "3    org.axonframework.eventsourcing.eventstore.jdbc   \n",
       "4  org.axonframework.eventsourcing.eventstore.jdb...   \n",
       "\n",
       "                    artifact  communityId  centrality         x         y  \n",
       "0  axon-configuration-4.10.3            0    0.047302 -4.265186  4.836691  \n",
       "1  axon-eventsourcing-4.10.3            0    0.037034  3.493848  2.419350  \n",
       "2  axon-eventsourcing-4.10.3            0    0.012211 -6.319843 -3.182643  \n",
       "3  axon-eventsourcing-4.10.3            0    0.023525  0.961259  2.051103  \n",
       "4  axon-eventsourcing-4.10.3            0    0.015345  1.957544  5.590578  "
      ]
     },
     "metadata": {},
     "output_type": "display_data"
    },
    {
     "data": {
      "image/png": "[encoded data removed]",
      "text/plain": [
       "<Figure size 640x480 with 1 Axes>"
      ]
     },
     "metadata": {},
     "output_type": "display_data"
    }
   ],
   "source": [
    "java_package_embeddings_parameters={\n",
    "    \"dependencies_projection\": \"java-package-embeddings-notebook\",\n",
    "    \"dependencies_projection_node\": \"Package\",\n",
    "    \"dependencies_projection_weight_property\": \"weight25PercentInterfaces\",\n",
    "    \"dependencies_projection_write_property\": \"embeddingsHashGNN\",\n",
    "    \"dependencies_projection_embedding_dimension\":\"64\"\n",
    "}\n",
    "embeddings = create_node_embeddings(\"../cypher/Node_Embeddings/Node_Embeddings_2d_Hash_GNN_Stream.cypher\", java_package_embeddings_parameters)\n",
    "node_embeddings_for_visualization = prepare_node_embeddings_for_2d_visualization(embeddings)\n",
    "plot_2d_node_embeddings(\n",
    "    node_embeddings_for_visualization, \n",
    "    \"Java Package positioned by their dependency relationships (HashGNN node embeddings + t-SNE)\"\n",
    ")"
   ]
  },
  {
   "cell_type": "markdown",
   "id": "248d88b4",
   "metadata": {},
   "source": [
    "### 2.5 Node Embeddings for Java Packages using node2vec"
   ]
  },
  {
   "cell_type": "code",
   "execution_count": 18,
   "id": "62c40c45",
   "metadata": {
    "execution": {
     "iopub.execute_input": "2025-02-15T22:51:03.412767Z",
     "iopub.status.busy": "2025-02-15T22:51:03.412496Z",
     "iopub.status.idle": "2025-02-15T22:51:04.342908Z",
     "shell.execute_reply": "2025-02-15T22:51:04.342425Z"
    }
   },
   "outputs": [
    {
     "name": "stderr",
     "output_type": "stream",
     "text": [
      "Received notification from DBMS server: {severity: WARNING} {code: Neo.ClientNotification.Statement.UnknownRelationshipTypeWarning} {category: UNRECOGNIZED} {title: The provided relationship type is not in the database.} {description: One of the relationship types in your query is not available in the database, make sure you didn't misspell it or that the label is available when you run this statement in your application (the missing relationship type is: HAS_ROOT)} {position: line: 9, column: 44, offset: 696} for query: '// Query already calculated and written node embeddings on nodes with label in parameter $dependencies_projection_node including a communityId and centrality. Variables: dependencies_projection_node, dependencies_projection_write_property. Requires \"Add_file_name and_extension.cypher\".\\n \\n  MATCH (codeUnit)\\n  WHERE $dependencies_projection_node IN LABELS(codeUnit)\\n    AND codeUnit[$dependencies_projection_write_property] IS NOT NULL\\n    // AND codeUnit.notExistingToForceRecalculation IS NOT NULL // uncomment this line to force recalculation\\n OPTIONAL MATCH (artifact:Java:Artifact)-[:CONTAINS]->(codeUnit)\\n    WITH *, artifact.name AS artifactName\\n OPTIONAL MATCH (projectRoot:Directory)<-[:HAS_ROOT]-(proj:TS:Project)-[:CONTAINS]->(codeUnit)\\n    WITH *, last(split(projectRoot.absoluteFileName, \\'/\\')) AS projectName   \\n  RETURN DISTINCT \\n         coalesce(codeUnit.fqn, codeUnit.globalFqn, codeUnit.fileName, codeUnit.signature, codeUnit.name) AS codeUnitName\\n        ,codeUnit.name                AS shortCodeUnitName\\n        ,coalesce(artifactName, projectName)                                                              AS projectName\\n        ,coalesce(codeUnit.communityLeidenId, 0)           AS communityId\\n        ,coalesce(codeUnit.centralityPageRank, 0.01)       AS centrality\\n        ,codeUnit[$dependencies_projection_write_property] AS embedding\\n   ORDER BY communityId'\n"
     ]
    },
    {
     "name": "stdout",
     "output_type": "stream",
     "text": [
      "The results have been provided by the query filename: ../cypher/Node_Embeddings/Node_Embeddings_0a_Query_Calculated.cypher\n"
     ]
    },
    {
     "data": {
      "text/html": [
       "<div>\n",
       "<style scoped>\n",
       "    .dataframe tbody tr th:only-of-type {\n",
       "        vertical-align: middle;\n",
       "    }\n",
       "\n",
       "    .dataframe tbody tr th {\n",
       "        vertical-align: top;\n",
       "    }\n",
       "\n",
       "    .dataframe thead th {\n",
       "        text-align: right;\n",
       "    }\n",
       "</style>\n",
       "<table border=\"1\" class=\"dataframe\">\n",
       "  <thead>\n",
       "    <tr style=\"text-align: right;\">\n",
       "      <th></th>\n",
       "      <th>codeUnitName</th>\n",
       "      <th>shortCodeUnitName</th>\n",
       "      <th>projectName</th>\n",
       "      <th>communityId</th>\n",
       "      <th>centrality</th>\n",
       "      <th>embedding</th>\n",
       "    </tr>\n",
       "  </thead>\n",
       "  <tbody>\n",
       "    <tr>\n",
       "      <th>0</th>\n",
       "      <td>org.axonframework.config</td>\n",
       "      <td>config</td>\n",
       "      <td>axon-configuration-4.10.3</td>\n",
       "      <td>0</td>\n",
       "      <td>0.047302</td>\n",
       "      <td>[0.3563048243522644, -0.15225465595722198, -0....</td>\n",
       "    </tr>\n",
       "    <tr>\n",
       "      <th>1</th>\n",
       "      <td>org.axonframework.eventsourcing.eventstore</td>\n",
       "      <td>eventstore</td>\n",
       "      <td>axon-eventsourcing-4.10.3</td>\n",
       "      <td>0</td>\n",
       "      <td>0.037034</td>\n",
       "      <td>[0.31444665789604187, 0.12742845714092255, 0.1...</td>\n",
       "    </tr>\n",
       "    <tr>\n",
       "      <th>2</th>\n",
       "      <td>org.axonframework.eventsourcing.eventstore.inm...</td>\n",
       "      <td>inmemory</td>\n",
       "      <td>axon-eventsourcing-4.10.3</td>\n",
       "      <td>0</td>\n",
       "      <td>0.012211</td>\n",
       "      <td>[0.49195241928100586, -0.01401556096971035, -0...</td>\n",
       "    </tr>\n",
       "    <tr>\n",
       "      <th>3</th>\n",
       "      <td>org.axonframework.eventsourcing.eventstore.jdbc</td>\n",
       "      <td>jdbc</td>\n",
       "      <td>axon-eventsourcing-4.10.3</td>\n",
       "      <td>0</td>\n",
       "      <td>0.023525</td>\n",
       "      <td>[0.5391800999641418, 0.13031646609306335, 0.29...</td>\n",
       "    </tr>\n",
       "    <tr>\n",
       "      <th>4</th>\n",
       "      <td>org.axonframework.eventsourcing.eventstore.jdb...</td>\n",
       "      <td>statements</td>\n",
       "      <td>axon-eventsourcing-4.10.3</td>\n",
       "      <td>0</td>\n",
       "      <td>0.015345</td>\n",
       "      <td>[0.6237025856971741, 0.18466168642044067, 0.15...</td>\n",
       "    </tr>\n",
       "  </tbody>\n",
       "</table>\n",
       "</div>"
      ],
      "text/plain": [
       "                                        codeUnitName shortCodeUnitName  \\\n",
       "0                           org.axonframework.config            config   \n",
       "1         org.axonframework.eventsourcing.eventstore        eventstore   \n",
       "2  org.axonframework.eventsourcing.eventstore.inm...          inmemory   \n",
       "3    org.axonframework.eventsourcing.eventstore.jdbc              jdbc   \n",
       "4  org.axonframework.eventsourcing.eventstore.jdb...        statements   \n",
       "\n",
       "                 projectName  communityId  centrality  \\\n",
       "0  axon-configuration-4.10.3            0    0.047302   \n",
       "1  axon-eventsourcing-4.10.3            0    0.037034   \n",
       "2  axon-eventsourcing-4.10.3            0    0.012211   \n",
       "3  axon-eventsourcing-4.10.3            0    0.023525   \n",
       "4  axon-eventsourcing-4.10.3            0    0.015345   \n",
       "\n",
       "                                           embedding  \n",
       "0  [0.3563048243522644, -0.15225465595722198, -0....  \n",
       "1  [0.31444665789604187, 0.12742845714092255, 0.1...  \n",
       "2  [0.49195241928100586, -0.01401556096971035, -0...  \n",
       "3  [0.5391800999641418, 0.13031646609306335, 0.29...  \n",
       "4  [0.6237025856971741, 0.18466168642044067, 0.15...  "
      ]
     },
     "metadata": {},
     "output_type": "display_data"
    },
    {
     "name": "stdout",
     "output_type": "stream",
     "text": [
      "--------------------------------------------------------------------------------\n",
      "TSNE(early_exaggeration=12, random_state=47, verbose=1)\n",
      "--------------------------------------------------------------------------------\n",
      "===> Finding 90 nearest neighbors using exact search using euclidean distance...\n",
      "   --> Time elapsed: 0.00 seconds\n",
      "===> Calculating affinity matrix...\n",
      "   --> Time elapsed: 0.00 seconds\n",
      "===> Calculating PCA-based initialization...\n",
      "   --> Time elapsed: 0.00 seconds\n",
      "===> Running optimization with exaggeration=12.00, lr=9.50 for 250 iterations...\n",
      "Iteration   50, KL divergence -0.2050, 50 iterations in 0.0466 sec\n",
      "Iteration  100, KL divergence -2.4793, 50 iterations in 0.0131 sec\n",
      "Iteration  150, KL divergence -2.8832, 50 iterations in 0.0116 sec\n",
      "Iteration  200, KL divergence 1.1642, 50 iterations in 0.0101 sec\n",
      "Iteration  250, KL divergence 1.1642, 50 iterations in 0.0098 sec\n",
      "   --> Time elapsed: 0.09 seconds\n",
      "===> Running optimization with exaggeration=1.00, lr=114.00 for 500 iterations...\n",
      "Iteration   50, KL divergence 0.3436, 50 iterations in 0.0405 sec\n",
      "Iteration  100, KL divergence 0.2941, 50 iterations in 0.0506 sec\n"
     ]
    },
    {
     "name": "stdout",
     "output_type": "stream",
     "text": [
      "Iteration  150, KL divergence 0.2931, 50 iterations in 0.0494 sec\n",
      "Iteration  200, KL divergence 0.2935, 50 iterations in 0.0490 sec\n",
      "Iteration  250, KL divergence 0.2936, 50 iterations in 0.0487 sec\n",
      "Iteration  300, KL divergence 0.2937, 50 iterations in 0.0487 sec\n",
      "Iteration  350, KL divergence 0.2936, 50 iterations in 0.0484 sec\n"
     ]
    },
    {
     "name": "stdout",
     "output_type": "stream",
     "text": [
      "Iteration  400, KL divergence 0.2936, 50 iterations in 0.0496 sec\n",
      "Iteration  450, KL divergence 0.2935, 50 iterations in 0.0488 sec\n",
      "Iteration  500, KL divergence 0.2934, 50 iterations in 0.0482 sec\n",
      "   --> Time elapsed: 0.48 seconds\n"
     ]
    },
    {
     "data": {
      "text/plain": [
       "(114, 2)"
      ]
     },
     "metadata": {},
     "output_type": "display_data"
    },
    {
     "data": {
      "text/html": [
       "<div>\n",
       "<style scoped>\n",
       "    .dataframe tbody tr th:only-of-type {\n",
       "        vertical-align: middle;\n",
       "    }\n",
       "\n",
       "    .dataframe tbody tr th {\n",
       "        vertical-align: top;\n",
       "    }\n",
       "\n",
       "    .dataframe thead th {\n",
       "        text-align: right;\n",
       "    }\n",
       "</style>\n",
       "<table border=\"1\" class=\"dataframe\">\n",
       "  <thead>\n",
       "    <tr style=\"text-align: right;\">\n",
       "      <th></th>\n",
       "      <th>codeUnit</th>\n",
       "      <th>artifact</th>\n",
       "      <th>communityId</th>\n",
       "      <th>centrality</th>\n",
       "      <th>x</th>\n",
       "      <th>y</th>\n",
       "    </tr>\n",
       "  </thead>\n",
       "  <tbody>\n",
       "    <tr>\n",
       "      <th>0</th>\n",
       "      <td>org.axonframework.config</td>\n",
       "      <td>axon-configuration-4.10.3</td>\n",
       "      <td>0</td>\n",
       "      <td>0.047302</td>\n",
       "      <td>0.457618</td>\n",
       "      <td>0.028197</td>\n",
       "    </tr>\n",
       "    <tr>\n",
       "      <th>1</th>\n",
       "      <td>org.axonframework.eventsourcing.eventstore</td>\n",
       "      <td>axon-eventsourcing-4.10.3</td>\n",
       "      <td>0</td>\n",
       "      <td>0.037034</td>\n",
       "      <td>-0.551798</td>\n",
       "      <td>3.150891</td>\n",
       "    </tr>\n",
       "    <tr>\n",
       "      <th>2</th>\n",
       "      <td>org.axonframework.eventsourcing.eventstore.inm...</td>\n",
       "      <td>axon-eventsourcing-4.10.3</td>\n",
       "      <td>0</td>\n",
       "      <td>0.012211</td>\n",
       "      <td>-1.656406</td>\n",
       "      <td>-0.594156</td>\n",
       "    </tr>\n",
       "    <tr>\n",
       "      <th>3</th>\n",
       "      <td>org.axonframework.eventsourcing.eventstore.jdbc</td>\n",
       "      <td>axon-eventsourcing-4.10.3</td>\n",
       "      <td>0</td>\n",
       "      <td>0.023525</td>\n",
       "      <td>1.906361</td>\n",
       "      <td>7.806532</td>\n",
       "    </tr>\n",
       "    <tr>\n",
       "      <th>4</th>\n",
       "      <td>org.axonframework.eventsourcing.eventstore.jdb...</td>\n",
       "      <td>axon-eventsourcing-4.10.3</td>\n",
       "      <td>0</td>\n",
       "      <td>0.015345</td>\n",
       "      <td>1.922303</td>\n",
       "      <td>7.826993</td>\n",
       "    </tr>\n",
       "  </tbody>\n",
       "</table>\n",
       "</div>"
      ],
      "text/plain": [
       "                                            codeUnit  \\\n",
       "0                           org.axonframework.config   \n",
       "1         org.axonframework.eventsourcing.eventstore   \n",
       "2  org.axonframework.eventsourcing.eventstore.inm...   \n",
       "3    org.axonframework.eventsourcing.eventstore.jdbc   \n",
       "4  org.axonframework.eventsourcing.eventstore.jdb...   \n",
       "\n",
       "                    artifact  communityId  centrality         x         y  \n",
       "0  axon-configuration-4.10.3            0    0.047302  0.457618  0.028197  \n",
       "1  axon-eventsourcing-4.10.3            0    0.037034 -0.551798  3.150891  \n",
       "2  axon-eventsourcing-4.10.3            0    0.012211 -1.656406 -0.594156  \n",
       "3  axon-eventsourcing-4.10.3            0    0.023525  1.906361  7.806532  \n",
       "4  axon-eventsourcing-4.10.3            0    0.015345  1.922303  7.826993  "
      ]
     },
     "metadata": {},
     "output_type": "display_data"
    },
    {
     "data": {
      "image/png": "[encoded data removed]",
      "text/plain": [
       "<Figure size 640x480 with 1 Axes>"
      ]
     },
     "metadata": {},
     "output_type": "display_data"
    }
   ],
   "source": [
    "java_package_embeddings_parameters={\n",
    "    \"dependencies_projection\": \"java-package-embeddings-notebook\",\n",
    "    \"dependencies_projection_node\": \"Package\",\n",
    "    \"dependencies_projection_weight_property\": \"weight25PercentInterfaces\",\n",
    "    \"dependencies_projection_write_property\": \"embeddingsNode2Vec\",\n",
    "    \"dependencies_projection_embedding_dimension\":\"32\"\n",
    "}\n",
    "embeddings = create_node_embeddings(\"../cypher/Node_Embeddings/Node_Embeddings_3d_Node2Vec_Stream.cypher\", java_package_embeddings_parameters)\n",
    "node_embeddings_for_visualization = prepare_node_embeddings_for_2d_visualization(embeddings)\n",
    "plot_2d_node_embeddings(\n",
    "    node_embeddings_for_visualization, \n",
    "    \"Java Package positioned by their dependency relationships (node2vec node embeddings + t-SNE)\"\n",
    ")"
   ]
  }
 ],
 "metadata": {
  "authors": [
   {
    "name": "JohT"
   }
  ],
  "code_graph_analysis_pipeline_data_validation": "ValidateJavaPackageDependencies",
  "kernelspec": {
   "display_name": "Python 3 (ipykernel)",
   "language": "python",
   "name": "python3"
  },
  "language_info": {
   "codemirror_mode": {
    "name": "ipython",
    "version": 3
   },
   "file_extension": ".py",
   "mimetype": "text/x-python",
   "name": "python",
   "nbconvert_exporter": "python",
   "pygments_lexer": "ipython3",
   "version": "3.12.9"
  },
  "title": "Object Oriented Design Quality Metrics for Java with Neo4j"
 },
 "nbformat": 4,
 "nbformat_minor": 5
}
