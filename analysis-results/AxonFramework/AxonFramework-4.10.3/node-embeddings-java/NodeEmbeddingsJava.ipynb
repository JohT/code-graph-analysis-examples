{
 "cells": [
  {
   "attachments": {},
   "cell_type": "markdown",
   "id": "2f0eabc4",
   "metadata": {},
   "source": [
    "# Node Embeddings\n",
    "\n",
    "This notebook demonstrates different methods for node embeddings and how to further reduce their dimensionality to be able to visualize them in a 2D plot. \n",
    "\n",
    "Node embeddings are essentially an array of floating point numbers (length = embedding dimension) that can be used as \"features\" in machine learning. These numbers approximate the relationship and similarity information of each node and can also be seen as a way to encode the topology of the graph.\n",
    "\n",
    "## Considerations\n",
    "\n",
    "Due to dimensionality reduction some information gets lost, especially when visualizing node embeddings in two dimensions. Nevertheless, it helps to get an intuition on what node embeddings are and how much of the similarity and neighborhood information is retained. The latter can be observed by how well nodes of the same color and therefore same community are placed together and how much bigger nodes with a high centrality score influence them. \n",
    "\n",
    "If the visualization doesn't show a somehow clear separation between the communities (colors) here are some ideas for tuning: \n",
    "- Clean the data, e.g. filter out very few nodes with extremely high degree that aren't actually that important\n",
    "- Try directed vs. undirected projections\n",
    "- Tune the embedding algorithm, e.g. use a higher dimensionality\n",
    "- Tune t-SNE that is used to reduce the node embeddings dimension to two dimensions for visualization. \n",
    "\n",
    "It could also be the case that the node embeddings are good enough and well suited the way they are despite their visualization for the down stream task like node classification or link prediction. In that case it makes sense to see how the whole pipeline performs before tuning the node embeddings in detail. \n",
    "\n",
    "## Note about data dependencies\n",
    "\n",
    "PageRank centrality and Leiden community are also fetched from the Graph and need to be calculated first.\n",
    "This makes it easier to see if the embeddings approximate the structural information of the graph in the plot.\n",
    "If these properties are missing you will only see black dots all of the same size.\n",
    "\n",
    "<br>  \n",
    "\n",
    "### References\n",
    "- [jqassistant](https://jqassistant.org)\n",
    "- [Neo4j Python Driver](https://neo4j.com/docs/api/python-driver/current)\n",
    "- [Tutorial: Applied Graph Embeddings](https://neo4j.com/developer/graph-data-science/applied-graph-embeddings)\n",
    "- [Visualizing the embeddings in 2D](https://github.com/openai/openai-cookbook/blob/main/examples/Visualizing_embeddings_in_2D.ipynb)\n",
    "- [scikit-learn TSNE](https://scikit-learn.org/stable/modules/generated/sklearn.manifold.TSNE.html#sklearn.manifold.TSNE)\n",
    "- [AttributeError: 'list' object has no attribute 'shape'](https://bobbyhadz.com/blog/python-attributeerror-list-object-has-no-attribute-shape)\n",
    "- [Fast Random Projection (neo4j)](https://neo4j.com/docs/graph-data-science/current/machine-learning/node-embeddings/fastrp)\n",
    "- [HashGNN (neo4j)](https://neo4j.com/docs/graph-data-science/2.6/machine-learning/node-embeddings/hashgnn)\n",
    "- [node2vec (neo4j)](https://neo4j.com/docs/graph-data-science/current/machine-learning/node-embeddings/node2vec) computes a vector representation of a node based on second order random walks in the graph. \n",
    "- [Complete guide to understanding Node2Vec algorithm](https://towardsdatascience.com/complete-guide-to-understanding-node2vec-algorithm-4e9a35e5d147)"
   ]
  },
  {
   "cell_type": "code",
   "execution_count": 1,
   "id": "4191f259",
   "metadata": {
    "execution": {
     "iopub.execute_input": "2025-01-26T11:46:56.373936Z",
     "iopub.status.busy": "2025-01-26T11:46:56.373749Z",
     "iopub.status.idle": "2025-01-26T11:46:57.213175Z",
     "shell.execute_reply": "2025-01-26T11:46:57.212592Z"
    }
   },
   "outputs": [],
   "source": [
    "import os\n",
    "from IPython.display import display\n",
    "import pandas as pd\n",
    "import matplotlib.pyplot as plot\n",
    "import typing as typ\n",
    "import numpy as np\n",
    "from openTSNE.sklearn import TSNE\n",
    "from neo4j import GraphDatabase"
   ]
  },
  {
   "cell_type": "code",
   "execution_count": 2,
   "id": "f8ef41ff",
   "metadata": {
    "execution": {
     "iopub.execute_input": "2025-01-26T11:46:57.216301Z",
     "iopub.status.busy": "2025-01-26T11:46:57.215786Z",
     "iopub.status.idle": "2025-01-26T11:46:57.219168Z",
     "shell.execute_reply": "2025-01-26T11:46:57.218646Z"
    }
   },
   "outputs": [
    {
     "name": "stdout",
     "output_type": "stream",
     "text": [
      "The openTSNE version is: 1.0.1\n",
      "The pandas version is: 1.5.1\n"
     ]
    }
   ],
   "source": [
    "from openTSNE import __version__ as openTSNE_version\n",
    "print('The openTSNE version is: {}'.format(openTSNE_version))\n",
    "print('The pandas version is: {}'.format(pd.__version__))\n"
   ]
  },
  {
   "cell_type": "code",
   "execution_count": 3,
   "id": "1c5dab37",
   "metadata": {
    "execution": {
     "iopub.execute_input": "2025-01-26T11:46:57.221601Z",
     "iopub.status.busy": "2025-01-26T11:46:57.221168Z",
     "iopub.status.idle": "2025-01-26T11:46:57.228469Z",
     "shell.execute_reply": "2025-01-26T11:46:57.227954Z"
    }
   },
   "outputs": [],
   "source": [
    "# Please set the environment variable \"NEO4J_INITIAL_PASSWORD\" in your shell \n",
    "# before starting jupyter notebook to provide the password for the user \"neo4j\". \n",
    "# It is not recommended to hardcode the password into jupyter notebook for security reasons.\n",
    "\n",
    "driver = GraphDatabase.driver(uri=\"bolt://localhost:7687\", auth=(\"neo4j\", os.environ.get(\"NEO4J_INITIAL_PASSWORD\")))\n",
    "driver.verify_connectivity()"
   ]
  },
  {
   "cell_type": "code",
   "execution_count": 4,
   "id": "c1db254b",
   "metadata": {
    "execution": {
     "iopub.execute_input": "2025-01-26T11:46:57.230612Z",
     "iopub.status.busy": "2025-01-26T11:46:57.230305Z",
     "iopub.status.idle": "2025-01-26T11:46:57.232954Z",
     "shell.execute_reply": "2025-01-26T11:46:57.232486Z"
    }
   },
   "outputs": [],
   "source": [
    "def get_cypher_query_from_file(filename):\n",
    "    with open(filename) as file:\n",
    "        return ' '.join(file.readlines())"
   ]
  },
  {
   "cell_type": "code",
   "execution_count": 5,
   "id": "59310f6f",
   "metadata": {
    "execution": {
     "iopub.execute_input": "2025-01-26T11:46:57.234931Z",
     "iopub.status.busy": "2025-01-26T11:46:57.234654Z",
     "iopub.status.idle": "2025-01-26T11:46:57.237795Z",
     "shell.execute_reply": "2025-01-26T11:46:57.237289Z"
    }
   },
   "outputs": [],
   "source": [
    "def query_cypher_to_data_frame(filename, parameters_: typ.Optional[typ.Dict[str, typ.Any]] = None):\n",
    "    records, summary, keys = driver.execute_query(get_cypher_query_from_file(filename),parameters_=parameters_)\n",
    "    return pd.DataFrame([r.values() for r in records], columns=keys)"
   ]
  },
  {
   "cell_type": "code",
   "execution_count": 6,
   "id": "bd1d9775",
   "metadata": {
    "execution": {
     "iopub.execute_input": "2025-01-26T11:46:57.239749Z",
     "iopub.status.busy": "2025-01-26T11:46:57.239454Z",
     "iopub.status.idle": "2025-01-26T11:46:57.242886Z",
     "shell.execute_reply": "2025-01-26T11:46:57.242388Z"
    }
   },
   "outputs": [],
   "source": [
    "def query_first_non_empty_cypher_to_data_frame(*filenames : str, parameters: typ.Optional[typ.Dict[str, typ.Any]] = None):\n",
    "    \"\"\"\n",
    "    Executes the Cypher queries of the given files and returns the first result that is not empty.\n",
    "    If all given file names result in empty results, the last (empty) result will be returned.\n",
    "    By additionally specifying \"limit=\" the \"LIMIT\" keyword will appended to query so that only the first results get returned.\n",
    "    \"\"\"\n",
    "    result=pd.DataFrame()\n",
    "    for filename in filenames:\n",
    "        result=query_cypher_to_data_frame(filename, parameters)\n",
    "        if not result.empty:\n",
    "            print(\"The results have been provided by the query filename: \" + filename)\n",
    "            return result\n",
    "    return result"
   ]
  },
  {
   "cell_type": "code",
   "execution_count": 7,
   "id": "7d2e62d6",
   "metadata": {
    "execution": {
     "iopub.execute_input": "2025-01-26T11:46:57.244986Z",
     "iopub.status.busy": "2025-01-26T11:46:57.244638Z",
     "iopub.status.idle": "2025-01-26T11:46:57.247989Z",
     "shell.execute_reply": "2025-01-26T11:46:57.247566Z"
    }
   },
   "outputs": [],
   "source": [
    "# TODO option to choose between directed and undirected projection\n",
    "\n",
    "def create_undirected_projection(parameters: dict) -> bool: \n",
    "    \"\"\"\n",
    "    Creates an undirected homogenous in-memory Graph projection for/with Neo4j Graph Data Science Plugin.\n",
    "    It returns True if there is data available for the given parameter and False otherwise.\n",
    "    Parameters\n",
    "    ----------\n",
    "    dependencies_projection : str\n",
    "        The name prefix for the in-memory projection for dependencies. Example: \"java-package-embeddings-notebook\"\n",
    "    dependencies_projection_node : str\n",
    "        The label of the nodes that will be used for the projection. Example: \"Package\"\n",
    "    dependencies_projection_weight_property : str\n",
    "        The name of the node property that contains the dependency weight. Example: \"weight25PercentInterfaces\"\n",
    "    dependencies_projection_embedding_dimension : str\n",
    "        The number of the dimensions and therefore size of the resulting array of floating point numbers\n",
    "    \"\"\"\n",
    "    \n",
    "    is_data_missing=query_cypher_to_data_frame(\"../cypher/Dependencies_Projection/Dependencies_0_Check_Projectable.cypher\", parameters).empty\n",
    "    if is_data_missing: return False\n",
    "\n",
    "    query_cypher_to_data_frame(\"../cypher/Dependencies_Projection/Dependencies_1_Delete_Projection.cypher\", parameters)\n",
    "    query_cypher_to_data_frame(\"../cypher/Dependencies_Projection/Dependencies_2_Delete_Subgraph.cypher\", parameters)\n",
    "    # To include the direction of the relationships use the following line to create the projection:\n",
    "    # query_cypher_to_data_frame(\"../cypher/Dependencies_Projection/Dependencies_3_Create_Projection.cypher\", parameters)\n",
    "    query_cypher_to_data_frame(\"../cypher/Dependencies_Projection/Dependencies_4_Create_Undirected_Projection.cypher\", parameters)\n",
    "    query_cypher_to_data_frame(\"../cypher/Dependencies_Projection/Dependencies_5_Create_Subgraph.cypher\", parameters)\n",
    "    return True"
   ]
  },
  {
   "cell_type": "code",
   "execution_count": 8,
   "id": "1aa86093",
   "metadata": {
    "execution": {
     "iopub.execute_input": "2025-01-26T11:46:57.249778Z",
     "iopub.status.busy": "2025-01-26T11:46:57.249619Z",
     "iopub.status.idle": "2025-01-26T11:46:57.253234Z",
     "shell.execute_reply": "2025-01-26T11:46:57.252838Z"
    }
   },
   "outputs": [],
   "source": [
    "# Feature ideas\n",
    "# TODO option to choose between directed and undirected projection\n",
    "# TODO option to not read already existing node embeddings to experiment with different (hpyer) parameters\n",
    "# TODO run a community detection algorithm co-located in here when \"communityId\" is missing\n",
    "# TODO run a centrality algorithm co-located in here when \"centrality\" score is missing\n",
    "\n",
    "def create_node_embeddings(cypher_file_name: str, parameters: dict) -> pd.DataFrame: \n",
    "    \"\"\"\n",
    "    Creates an in-memory Graph projection by calling \"create_undirected_projection\", \n",
    "    runs the cypher Query given as cypherFileName parameter to calculate and stream the node embeddings\n",
    "    and returns a DataFrame with the results.\n",
    "    \n",
    "    cypher_file_name\n",
    "    ----------\n",
    "    Name of the file containing the Cypher query that executes node embeddings procedure.\n",
    "\n",
    "    parameters\n",
    "    ----------\n",
    "    dependencies_projection : str\n",
    "        The name prefix for the in-memory projection for dependencies. Example: \"java-package-embeddings-notebook\"\n",
    "    dependencies_projection_node : str\n",
    "        The label of the nodes that will be used for the projection. Example: \"Package\"\n",
    "    dependencies_projection_weight_property : str\n",
    "        The name of the node property that contains the dependency weight. Example: \"weight25PercentInterfaces\"\n",
    "    dependencies_projection_embedding_dimension : str\n",
    "        The number of the dimensions and therefore size of the resulting array of floating point numbers\n",
    "    \"\"\"\n",
    "    \n",
    "    is_data_available=create_undirected_projection(parameters)\n",
    "    \n",
    "    if not is_data_available:\n",
    "        print(\"No projected data for node embeddings calculation available\")\n",
    "        empty_result = pd.DataFrame(columns=[\"codeUnitName\", 'projectName', 'communityId', 'centrality', 'embedding'])\n",
    "        return empty_result\n",
    "\n",
    "    existing_embeddings_query_filename=\"../cypher/Node_Embeddings/Node_Embeddings_0a_Query_Calculated.cypher\"\n",
    "    embeddings = query_first_non_empty_cypher_to_data_frame(existing_embeddings_query_filename, cypher_file_name, parameters=parameters)\n",
    "    display(embeddings.head()) # Display the first entries of the table\n",
    "    return embeddings"
   ]
  },
  {
   "cell_type": "markdown",
   "id": "f6ec6a9b",
   "metadata": {},
   "source": [
    "### Dimensionality reduction with t-distributed stochastic neighbor embedding (t-SNE)\n",
    "\n",
    "The following function takes the original node embeddings with a higher dimensionality, e.g. 64 floating point numbers, and reduces them into a two dimensional array for visualization. \n",
    "\n",
    "> It converts similarities between data points to joint probabilities and tries to minimize the Kullback-Leibler divergence between the joint probabilities of the low-dimensional embedding and the high-dimensional data.\n",
    "\n",
    "(see https://opentsne.readthedocs.io)"
   ]
  },
  {
   "cell_type": "code",
   "execution_count": 9,
   "id": "720aebd3",
   "metadata": {
    "execution": {
     "iopub.execute_input": "2025-01-26T11:46:57.255085Z",
     "iopub.status.busy": "2025-01-26T11:46:57.254932Z",
     "iopub.status.idle": "2025-01-26T11:46:57.259034Z",
     "shell.execute_reply": "2025-01-26T11:46:57.258625Z"
    }
   },
   "outputs": [],
   "source": [
    "def prepare_node_embeddings_for_2d_visualization(embeddings: pd.DataFrame) -> pd.DataFrame:\n",
    "    \"\"\"\n",
    "    Reduces the dimensionality of the node embeddings (e.g. 64 floating point numbers in an array)\n",
    "    to two dimensions for 2D visualization.\n",
    "    see https://opentsne.readthedocs.io\n",
    "    \"\"\"\n",
    "\n",
    "    if embeddings.empty: \n",
    "        print(\"No projected data for node embeddings dimensionality reduction available\")\n",
    "        return embeddings\n",
    "    \n",
    "    # Calling the fit_transform method just with a list doesn't seem to work (anymore?). \n",
    "    # It leads to an error with the following message: 'list' object has no attribute 'shape'\n",
    "    # This can be solved by converting the list to a numpy array using np.array(..).\n",
    "    # See https://bobbyhadz.com/blog/python-attributeerror-list-object-has-no-attribute-shape\n",
    "    embeddings_as_numpy_array = np.array(embeddings.embedding.to_list())\n",
    "\n",
    "    # Use t-distributed stochastic neighbor embedding (t-SNE) to reduce the dimensionality \n",
    "    # of the previously calculated node embeddings to 2 dimensions for visualization\n",
    "    t_distributed_stochastic_neighbor_embedding = TSNE(n_components=2, verbose=1, random_state=47)\n",
    "    two_dimension_node_embeddings = t_distributed_stochastic_neighbor_embedding.fit_transform(embeddings_as_numpy_array)\n",
    "    display(two_dimension_node_embeddings.shape) # Display the shape of the t-SNE result\n",
    "\n",
    "    # Create a new DataFrame with the results of the 2 dimensional node embeddings\n",
    "    # and the code unit and artifact name of the query above as preparation for the plot\n",
    "    node_embeddings_for_visualization = pd.DataFrame(data = {\n",
    "        \"codeUnit\": embeddings.codeUnitName,\n",
    "        \"artifact\": embeddings.projectName,\n",
    "        \"communityId\": embeddings.communityId,\n",
    "        \"centrality\": embeddings.centrality,\n",
    "        \"x\": [value[0] for value in two_dimension_node_embeddings],\n",
    "        \"y\": [value[1] for value in two_dimension_node_embeddings]\n",
    "    })\n",
    "    display(node_embeddings_for_visualization.head()) # Display the first line of the results\n",
    "    return node_embeddings_for_visualization\n",
    "    "
   ]
  },
  {
   "cell_type": "code",
   "execution_count": 10,
   "id": "d937e26e",
   "metadata": {
    "execution": {
     "iopub.execute_input": "2025-01-26T11:46:57.260796Z",
     "iopub.status.busy": "2025-01-26T11:46:57.260644Z",
     "iopub.status.idle": "2025-01-26T11:46:57.263652Z",
     "shell.execute_reply": "2025-01-26T11:46:57.263255Z"
    }
   },
   "outputs": [],
   "source": [
    "def plot_2d_node_embeddings(node_embeddings_for_visualization: pd.DataFrame, title: str):\n",
    "    if embeddings.empty:\n",
    "        print(\"No projected data to plot available\")\n",
    "        return\n",
    "\n",
    "    plot.scatter(\n",
    "        x=node_embeddings_for_visualization.x,\n",
    "        y=node_embeddings_for_visualization.y,\n",
    "        s=node_embeddings_for_visualization.centrality * 300,\n",
    "        c=node_embeddings_for_visualization.communityId,\n",
    "        cmap=main_color_map,\n",
    "    )\n",
    "    plot.title(title)\n",
    "    plot.show()"
   ]
  },
  {
   "cell_type": "code",
   "execution_count": 11,
   "id": "da9e8edb",
   "metadata": {
    "execution": {
     "iopub.execute_input": "2025-01-26T11:46:57.265357Z",
     "iopub.status.busy": "2025-01-26T11:46:57.265204Z",
     "iopub.status.idle": "2025-01-26T11:46:57.267369Z",
     "shell.execute_reply": "2025-01-26T11:46:57.266975Z"
    }
   },
   "outputs": [],
   "source": [
    "#The following cell uses the build-in %html \"magic\" to override the CSS style for tables to a much smaller size.\n",
    "#This is especially needed for PDF export of tables with multiple columns."
   ]
  },
  {
   "cell_type": "code",
   "execution_count": 12,
   "id": "9deaabce",
   "metadata": {
    "execution": {
     "iopub.execute_input": "2025-01-26T11:46:57.269032Z",
     "iopub.status.busy": "2025-01-26T11:46:57.268886Z",
     "iopub.status.idle": "2025-01-26T11:46:57.275646Z",
     "shell.execute_reply": "2025-01-26T11:46:57.275238Z"
    }
   },
   "outputs": [
    {
     "data": {
      "text/html": [
       "<style>\n",
       "/* CSS style for smaller dataframe tables. */\n",
       ".dataframe th {\n",
       "    font-size: 8px;\n",
       "}\n",
       ".dataframe td {\n",
       "    font-size: 8px;\n",
       "}\n",
       "</style>\n"
      ],
      "text/plain": [
       "<IPython.core.display.HTML object>"
      ]
     },
     "metadata": {},
     "output_type": "display_data"
    }
   ],
   "source": [
    "%%html\n",
    "<style>\n",
    "/* CSS style for smaller dataframe tables. */\n",
    ".dataframe th {\n",
    "    font-size: 8px;\n",
    "}\n",
    ".dataframe td {\n",
    "    font-size: 8px;\n",
    "}\n",
    "</style>"
   ]
  },
  {
   "cell_type": "code",
   "execution_count": 13,
   "id": "c2496caf",
   "metadata": {
    "execution": {
     "iopub.execute_input": "2025-01-26T11:46:57.277603Z",
     "iopub.status.busy": "2025-01-26T11:46:57.277242Z",
     "iopub.status.idle": "2025-01-26T11:46:57.279482Z",
     "shell.execute_reply": "2025-01-26T11:46:57.279104Z"
    }
   },
   "outputs": [],
   "source": [
    "# Main Colormap\n",
    "main_color_map = 'nipy_spectral'"
   ]
  },
  {
   "cell_type": "markdown",
   "id": "0c68aa20",
   "metadata": {},
   "source": [
    "## 1. Java Packages"
   ]
  },
  {
   "cell_type": "markdown",
   "id": "145dca19",
   "metadata": {},
   "source": [
    "### 1.1 Generate Node Embeddings using Fast Random Projection (Fast RP) for Java Packages\n",
    "\n",
    "[Fast Random Projection](https://neo4j.com/docs/graph-data-science/current/machine-learning/node-embeddings/fastrp) is used to reduce the dimensionality of the node feature space while preserving most of the distance information. Nodes with similar neighborhood result in node embedding with similar vectors.\n",
    "\n",
    "**👉Hint:** To skip existing node embeddings and always calculate them based on the parameters below edit `Node_Embeddings_0a_Query_Calculated` so that it won't return any results."
   ]
  },
  {
   "cell_type": "code",
   "execution_count": 14,
   "id": "8efca2cf",
   "metadata": {
    "execution": {
     "iopub.execute_input": "2025-01-26T11:46:57.281545Z",
     "iopub.status.busy": "2025-01-26T11:46:57.281249Z",
     "iopub.status.idle": "2025-01-26T11:46:57.588468Z",
     "shell.execute_reply": "2025-01-26T11:46:57.587963Z"
    }
   },
   "outputs": [
    {
     "name": "stdout",
     "output_type": "stream",
     "text": [
      "The results have been provided by the query filename: ../cypher/Node_Embeddings/Node_Embeddings_0a_Query_Calculated.cypher\n"
     ]
    },
    {
     "data": {
      "text/html": [
       "<div>\n",
       "<style scoped>\n",
       "    .dataframe tbody tr th:only-of-type {\n",
       "        vertical-align: middle;\n",
       "    }\n",
       "\n",
       "    .dataframe tbody tr th {\n",
       "        vertical-align: top;\n",
       "    }\n",
       "\n",
       "    .dataframe thead th {\n",
       "        text-align: right;\n",
       "    }\n",
       "</style>\n",
       "<table border=\"1\" class=\"dataframe\">\n",
       "  <thead>\n",
       "    <tr style=\"text-align: right;\">\n",
       "      <th></th>\n",
       "      <th>codeUnitName</th>\n",
       "      <th>shortCodeUnitName</th>\n",
       "      <th>projectName</th>\n",
       "      <th>communityId</th>\n",
       "      <th>centrality</th>\n",
       "      <th>embedding</th>\n",
       "    </tr>\n",
       "  </thead>\n",
       "  <tbody>\n",
       "    <tr>\n",
       "      <th>0</th>\n",
       "      <td>org.axonframework.config</td>\n",
       "      <td>config</td>\n",
       "      <td>axon-configuration-4.10.3</td>\n",
       "      <td>0</td>\n",
       "      <td>0.047302</td>\n",
       "      <td>[0.05093193054199219, -0.3450390100479126, -0....</td>\n",
       "    </tr>\n",
       "    <tr>\n",
       "      <th>1</th>\n",
       "      <td>org.axonframework.eventsourcing.eventstore</td>\n",
       "      <td>eventstore</td>\n",
       "      <td>axon-eventsourcing-4.10.3</td>\n",
       "      <td>0</td>\n",
       "      <td>0.037034</td>\n",
       "      <td>[-0.2022514045238495, -0.11786514520645142, -0...</td>\n",
       "    </tr>\n",
       "    <tr>\n",
       "      <th>2</th>\n",
       "      <td>org.axonframework.eventsourcing.eventstore.inm...</td>\n",
       "      <td>inmemory</td>\n",
       "      <td>axon-eventsourcing-4.10.3</td>\n",
       "      <td>0</td>\n",
       "      <td>0.012211</td>\n",
       "      <td>[0.11336085945367813, -0.14701107144355774, -0...</td>\n",
       "    </tr>\n",
       "    <tr>\n",
       "      <th>3</th>\n",
       "      <td>org.axonframework.eventsourcing.eventstore.jdbc</td>\n",
       "      <td>jdbc</td>\n",
       "      <td>axon-eventsourcing-4.10.3</td>\n",
       "      <td>0</td>\n",
       "      <td>0.023525</td>\n",
       "      <td>[-0.5276236534118652, 0.09687726944684982, -0....</td>\n",
       "    </tr>\n",
       "    <tr>\n",
       "      <th>4</th>\n",
       "      <td>org.axonframework.eventsourcing.eventstore.jdb...</td>\n",
       "      <td>statements</td>\n",
       "      <td>axon-eventsourcing-4.10.3</td>\n",
       "      <td>0</td>\n",
       "      <td>0.015345</td>\n",
       "      <td>[-0.5550099611282349, 0.19112810492515564, -0....</td>\n",
       "    </tr>\n",
       "  </tbody>\n",
       "</table>\n",
       "</div>"
      ],
      "text/plain": [
       "                                        codeUnitName shortCodeUnitName  \\\n",
       "0                           org.axonframework.config            config   \n",
       "1         org.axonframework.eventsourcing.eventstore        eventstore   \n",
       "2  org.axonframework.eventsourcing.eventstore.inm...          inmemory   \n",
       "3    org.axonframework.eventsourcing.eventstore.jdbc              jdbc   \n",
       "4  org.axonframework.eventsourcing.eventstore.jdb...        statements   \n",
       "\n",
       "                 projectName  communityId  centrality  \\\n",
       "0  axon-configuration-4.10.3            0    0.047302   \n",
       "1  axon-eventsourcing-4.10.3            0    0.037034   \n",
       "2  axon-eventsourcing-4.10.3            0    0.012211   \n",
       "3  axon-eventsourcing-4.10.3            0    0.023525   \n",
       "4  axon-eventsourcing-4.10.3            0    0.015345   \n",
       "\n",
       "                                           embedding  \n",
       "0  [0.05093193054199219, -0.3450390100479126, -0....  \n",
       "1  [-0.2022514045238495, -0.11786514520645142, -0...  \n",
       "2  [0.11336085945367813, -0.14701107144355774, -0...  \n",
       "3  [-0.5276236534118652, 0.09687726944684982, -0....  \n",
       "4  [-0.5550099611282349, 0.19112810492515564, -0....  "
      ]
     },
     "metadata": {},
     "output_type": "display_data"
    }
   ],
   "source": [
    "java_package_embeddings_parameters={\n",
    "    \"dependencies_projection\": \"java-package-embeddings-notebook\",\n",
    "    \"dependencies_projection_node\": \"Package\",\n",
    "    \"dependencies_projection_weight_property\": \"weight25PercentInterfaces\",\n",
    "    \"dependencies_projection_write_property\": \"embeddingsFastRandomProjection\",\n",
    "    \"dependencies_projection_embedding_dimension\":\"32\"\n",
    "}\n",
    "embeddings = create_node_embeddings(\"../cypher/Node_Embeddings/Node_Embeddings_1d_Fast_Random_Projection_Stream.cypher\", java_package_embeddings_parameters)\n"
   ]
  },
  {
   "cell_type": "markdown",
   "id": "76d8bca1",
   "metadata": {},
   "source": [
    "### 1.2 Dimensionality reduction with t-distributed stochastic neighbor embedding (t-SNE)\n",
    "\n",
    "This step takes the original node embeddings with a higher dimensionality, e.g. 64 floating point numbers, and reduces them into a two dimensional array for visualization. For more details look up the function declaration for \"prepare_node_embeddings_for_2d_visualization\"."
   ]
  },
  {
   "cell_type": "code",
   "execution_count": 15,
   "id": "031abacc",
   "metadata": {
    "execution": {
     "iopub.execute_input": "2025-01-26T11:46:57.590824Z",
     "iopub.status.busy": "2025-01-26T11:46:57.590518Z",
     "iopub.status.idle": "2025-01-26T11:46:58.191314Z",
     "shell.execute_reply": "2025-01-26T11:46:58.190883Z"
    }
   },
   "outputs": [
    {
     "name": "stdout",
     "output_type": "stream",
     "text": [
      "--------------------------------------------------------------------------------\n",
      "TSNE(early_exaggeration=12, random_state=47, verbose=1)\n",
      "--------------------------------------------------------------------------------\n",
      "===> Finding 90 nearest neighbors using exact search using euclidean distance...\n",
      "   --> Time elapsed: 0.03 seconds\n",
      "===> Calculating affinity matrix...\n",
      "   --> Time elapsed: 0.00 seconds\n",
      "===> Calculating PCA-based initialization...\n",
      "   --> Time elapsed: 0.00 seconds\n",
      "===> Running optimization with exaggeration=12.00, lr=9.50 for 250 iterations...\n",
      "Iteration   50, KL divergence -0.2840, 50 iterations in 0.0553 sec\n",
      "Iteration  100, KL divergence 1.2013, 50 iterations in 0.0160 sec\n",
      "Iteration  150, KL divergence 1.2013, 50 iterations in 0.0144 sec\n",
      "Iteration  200, KL divergence 1.2013, 50 iterations in 0.0144 sec\n",
      "Iteration  250, KL divergence 1.2013, 50 iterations in 0.0146 sec\n",
      "   --> Time elapsed: 0.11 seconds\n",
      "===> Running optimization with exaggeration=1.00, lr=114.00 for 500 iterations...\n",
      "Iteration   50, KL divergence 0.1845, 50 iterations in 0.0532 sec\n",
      "Iteration  100, KL divergence 0.1710, 50 iterations in 0.0481 sec\n",
      "Iteration  150, KL divergence 0.1681, 50 iterations in 0.0432 sec\n",
      "Iteration  200, KL divergence 0.1681, 50 iterations in 0.0427 sec\n",
      "Iteration  250, KL divergence 0.1678, 50 iterations in 0.0428 sec\n",
      "Iteration  300, KL divergence 0.1679, 50 iterations in 0.0426 sec\n",
      "Iteration  350, KL divergence 0.1679, 50 iterations in 0.0426 sec\n",
      "Iteration  400, KL divergence 0.1678, 50 iterations in 0.0423 sec\n",
      "Iteration  450, KL divergence 0.1679, 50 iterations in 0.0423 sec\n",
      "Iteration  500, KL divergence 0.1680, 50 iterations in 0.0422 sec\n",
      "   --> Time elapsed: 0.44 seconds\n"
     ]
    },
    {
     "data": {
      "text/plain": [
       "(114, 2)"
      ]
     },
     "metadata": {},
     "output_type": "display_data"
    },
    {
     "data": {
      "text/html": [
       "<div>\n",
       "<style scoped>\n",
       "    .dataframe tbody tr th:only-of-type {\n",
       "        vertical-align: middle;\n",
       "    }\n",
       "\n",
       "    .dataframe tbody tr th {\n",
       "        vertical-align: top;\n",
       "    }\n",
       "\n",
       "    .dataframe thead th {\n",
       "        text-align: right;\n",
       "    }\n",
       "</style>\n",
       "<table border=\"1\" class=\"dataframe\">\n",
       "  <thead>\n",
       "    <tr style=\"text-align: right;\">\n",
       "      <th></th>\n",
       "      <th>codeUnit</th>\n",
       "      <th>artifact</th>\n",
       "      <th>communityId</th>\n",
       "      <th>centrality</th>\n",
       "      <th>x</th>\n",
       "      <th>y</th>\n",
       "    </tr>\n",
       "  </thead>\n",
       "  <tbody>\n",
       "    <tr>\n",
       "      <th>0</th>\n",
       "      <td>org.axonframework.config</td>\n",
       "      <td>axon-configuration-4.10.3</td>\n",
       "      <td>0</td>\n",
       "      <td>0.047302</td>\n",
       "      <td>0.686673</td>\n",
       "      <td>-0.115548</td>\n",
       "    </tr>\n",
       "    <tr>\n",
       "      <th>1</th>\n",
       "      <td>org.axonframework.eventsourcing.eventstore</td>\n",
       "      <td>axon-eventsourcing-4.10.3</td>\n",
       "      <td>0</td>\n",
       "      <td>0.037034</td>\n",
       "      <td>2.231185</td>\n",
       "      <td>3.926552</td>\n",
       "    </tr>\n",
       "    <tr>\n",
       "      <th>2</th>\n",
       "      <td>org.axonframework.eventsourcing.eventstore.inm...</td>\n",
       "      <td>axon-eventsourcing-4.10.3</td>\n",
       "      <td>0</td>\n",
       "      <td>0.012211</td>\n",
       "      <td>1.442831</td>\n",
       "      <td>2.390903</td>\n",
       "    </tr>\n",
       "    <tr>\n",
       "      <th>3</th>\n",
       "      <td>org.axonframework.eventsourcing.eventstore.jdbc</td>\n",
       "      <td>axon-eventsourcing-4.10.3</td>\n",
       "      <td>0</td>\n",
       "      <td>0.023525</td>\n",
       "      <td>-0.809083</td>\n",
       "      <td>5.164411</td>\n",
       "    </tr>\n",
       "    <tr>\n",
       "      <th>4</th>\n",
       "      <td>org.axonframework.eventsourcing.eventstore.jdb...</td>\n",
       "      <td>axon-eventsourcing-4.10.3</td>\n",
       "      <td>0</td>\n",
       "      <td>0.015345</td>\n",
       "      <td>-0.811422</td>\n",
       "      <td>5.152515</td>\n",
       "    </tr>\n",
       "  </tbody>\n",
       "</table>\n",
       "</div>"
      ],
      "text/plain": [
       "                                            codeUnit  \\\n",
       "0                           org.axonframework.config   \n",
       "1         org.axonframework.eventsourcing.eventstore   \n",
       "2  org.axonframework.eventsourcing.eventstore.inm...   \n",
       "3    org.axonframework.eventsourcing.eventstore.jdbc   \n",
       "4  org.axonframework.eventsourcing.eventstore.jdb...   \n",
       "\n",
       "                    artifact  communityId  centrality         x         y  \n",
       "0  axon-configuration-4.10.3            0    0.047302  0.686673 -0.115548  \n",
       "1  axon-eventsourcing-4.10.3            0    0.037034  2.231185  3.926552  \n",
       "2  axon-eventsourcing-4.10.3            0    0.012211  1.442831  2.390903  \n",
       "3  axon-eventsourcing-4.10.3            0    0.023525 -0.809083  5.164411  \n",
       "4  axon-eventsourcing-4.10.3            0    0.015345 -0.811422  5.152515  "
      ]
     },
     "metadata": {},
     "output_type": "display_data"
    }
   ],
   "source": [
    "node_embeddings_for_visualization = prepare_node_embeddings_for_2d_visualization(embeddings)"
   ]
  },
  {
   "cell_type": "markdown",
   "id": "f908c47f",
   "metadata": {},
   "source": [
    "### 1.3 Visualization of the node embeddings reduced to two dimensions"
   ]
  },
  {
   "cell_type": "code",
   "execution_count": 16,
   "id": "459a819c",
   "metadata": {
    "execution": {
     "iopub.execute_input": "2025-01-26T11:46:58.193341Z",
     "iopub.status.busy": "2025-01-26T11:46:58.193183Z",
     "iopub.status.idle": "2025-01-26T11:46:58.311372Z",
     "shell.execute_reply": "2025-01-26T11:46:58.310885Z"
    }
   },
   "outputs": [
    {
     "data": {
      "image/png": "[encoded data removed]",
      "text/plain": [
       "<Figure size 640x480 with 1 Axes>"
      ]
     },
     "metadata": {},
     "output_type": "display_data"
    }
   ],
   "source": [
    "plot_2d_node_embeddings(\n",
    "    node_embeddings_for_visualization, \n",
    "    \"Java Package positioned by their dependency relationships (FastRP node embeddings + t-SNE)\"\n",
    ")"
   ]
  },
  {
   "cell_type": "markdown",
   "id": "b690b9a7",
   "metadata": {},
   "source": [
    "### 1.4 Node Embeddings for Java Packages using HashGNN\n",
    "\n",
    "[HashGNN](https://neo4j.com/docs/graph-data-science/2.6/machine-learning/node-embeddings/hashgnn) resembles Graph Neural Networks (GNN) but does not include a model or require training. It combines ideas of GNNs and fast randomized algorithms. For more details see [HashGNN](https://neo4j.com/docs/graph-data-science/2.6/machine-learning/node-embeddings/hashgnn). Here, the latter 3 steps are combined into one for HashGNN."
   ]
  },
  {
   "cell_type": "code",
   "execution_count": 17,
   "id": "3d3cfb7a",
   "metadata": {
    "execution": {
     "iopub.execute_input": "2025-01-26T11:46:58.313742Z",
     "iopub.status.busy": "2025-01-26T11:46:58.313403Z",
     "iopub.status.idle": "2025-01-26T11:46:59.321703Z",
     "shell.execute_reply": "2025-01-26T11:46:59.321187Z"
    }
   },
   "outputs": [
    {
     "name": "stdout",
     "output_type": "stream",
     "text": [
      "The results have been provided by the query filename: ../cypher/Node_Embeddings/Node_Embeddings_0a_Query_Calculated.cypher\n"
     ]
    },
    {
     "data": {
      "text/html": [
       "<div>\n",
       "<style scoped>\n",
       "    .dataframe tbody tr th:only-of-type {\n",
       "        vertical-align: middle;\n",
       "    }\n",
       "\n",
       "    .dataframe tbody tr th {\n",
       "        vertical-align: top;\n",
       "    }\n",
       "\n",
       "    .dataframe thead th {\n",
       "        text-align: right;\n",
       "    }\n",
       "</style>\n",
       "<table border=\"1\" class=\"dataframe\">\n",
       "  <thead>\n",
       "    <tr style=\"text-align: right;\">\n",
       "      <th></th>\n",
       "      <th>codeUnitName</th>\n",
       "      <th>shortCodeUnitName</th>\n",
       "      <th>projectName</th>\n",
       "      <th>communityId</th>\n",
       "      <th>centrality</th>\n",
       "      <th>embedding</th>\n",
       "    </tr>\n",
       "  </thead>\n",
       "  <tbody>\n",
       "    <tr>\n",
       "      <th>0</th>\n",
       "      <td>org.axonframework.config</td>\n",
       "      <td>config</td>\n",
       "      <td>axon-configuration-4.10.3</td>\n",
       "      <td>0</td>\n",
       "      <td>0.047302</td>\n",
       "      <td>[-1.0825317353010178, -2.1650634706020355, -1....</td>\n",
       "    </tr>\n",
       "    <tr>\n",
       "      <th>1</th>\n",
       "      <td>org.axonframework.eventsourcing.eventstore</td>\n",
       "      <td>eventstore</td>\n",
       "      <td>axon-eventsourcing-4.10.3</td>\n",
       "      <td>0</td>\n",
       "      <td>0.037034</td>\n",
       "      <td>[0.6495190411806107, -1.7320507764816284, -0.4...</td>\n",
       "    </tr>\n",
       "    <tr>\n",
       "      <th>2</th>\n",
       "      <td>org.axonframework.eventsourcing.eventstore.inm...</td>\n",
       "      <td>inmemory</td>\n",
       "      <td>axon-eventsourcing-4.10.3</td>\n",
       "      <td>0</td>\n",
       "      <td>0.012211</td>\n",
       "      <td>[-1.2990380823612213, -0.21650634706020355, -0...</td>\n",
       "    </tr>\n",
       "    <tr>\n",
       "      <th>3</th>\n",
       "      <td>org.axonframework.eventsourcing.eventstore.jdbc</td>\n",
       "      <td>jdbc</td>\n",
       "      <td>axon-eventsourcing-4.10.3</td>\n",
       "      <td>0</td>\n",
       "      <td>0.023525</td>\n",
       "      <td>[-0.4330126941204071, -0.21650634706020355, -1...</td>\n",
       "    </tr>\n",
       "    <tr>\n",
       "      <th>4</th>\n",
       "      <td>org.axonframework.eventsourcing.eventstore.jdb...</td>\n",
       "      <td>statements</td>\n",
       "      <td>axon-eventsourcing-4.10.3</td>\n",
       "      <td>0</td>\n",
       "      <td>0.015345</td>\n",
       "      <td>[-1.0825317353010178, 0.0, -0.8660253882408142...</td>\n",
       "    </tr>\n",
       "  </tbody>\n",
       "</table>\n",
       "</div>"
      ],
      "text/plain": [
       "                                        codeUnitName shortCodeUnitName  \\\n",
       "0                           org.axonframework.config            config   \n",
       "1         org.axonframework.eventsourcing.eventstore        eventstore   \n",
       "2  org.axonframework.eventsourcing.eventstore.inm...          inmemory   \n",
       "3    org.axonframework.eventsourcing.eventstore.jdbc              jdbc   \n",
       "4  org.axonframework.eventsourcing.eventstore.jdb...        statements   \n",
       "\n",
       "                 projectName  communityId  centrality  \\\n",
       "0  axon-configuration-4.10.3            0    0.047302   \n",
       "1  axon-eventsourcing-4.10.3            0    0.037034   \n",
       "2  axon-eventsourcing-4.10.3            0    0.012211   \n",
       "3  axon-eventsourcing-4.10.3            0    0.023525   \n",
       "4  axon-eventsourcing-4.10.3            0    0.015345   \n",
       "\n",
       "                                           embedding  \n",
       "0  [-1.0825317353010178, -2.1650634706020355, -1....  \n",
       "1  [0.6495190411806107, -1.7320507764816284, -0.4...  \n",
       "2  [-1.2990380823612213, -0.21650634706020355, -0...  \n",
       "3  [-0.4330126941204071, -0.21650634706020355, -1...  \n",
       "4  [-1.0825317353010178, 0.0, -0.8660253882408142...  "
      ]
     },
     "metadata": {},
     "output_type": "display_data"
    },
    {
     "name": "stdout",
     "output_type": "stream",
     "text": [
      "--------------------------------------------------------------------------------\n",
      "TSNE(early_exaggeration=12, random_state=47, verbose=1)\n",
      "--------------------------------------------------------------------------------\n",
      "===> Finding 90 nearest neighbors using exact search using euclidean distance...\n",
      "   --> Time elapsed: 0.00 seconds\n",
      "===> Calculating affinity matrix...\n",
      "   --> Time elapsed: 0.00 seconds\n",
      "===> Calculating PCA-based initialization...\n",
      "   --> Time elapsed: 0.00 seconds\n",
      "===> Running optimization with exaggeration=12.00, lr=9.50 for 250 iterations...\n",
      "Iteration   50, KL divergence -0.3439, 50 iterations in 0.0679 sec\n",
      "Iteration  100, KL divergence 1.2175, 50 iterations in 0.0174 sec\n",
      "Iteration  150, KL divergence 1.2175, 50 iterations in 0.0144 sec\n",
      "Iteration  200, KL divergence 1.2175, 50 iterations in 0.0144 sec\n",
      "Iteration  250, KL divergence 1.2175, 50 iterations in 0.0143 sec\n",
      "   --> Time elapsed: 0.13 seconds\n",
      "===> Running optimization with exaggeration=1.00, lr=114.00 for 500 iterations...\n",
      "Iteration   50, KL divergence 0.6710, 50 iterations in 0.0519 sec\n",
      "Iteration  100, KL divergence 0.6496, 50 iterations in 0.0469 sec\n",
      "Iteration  150, KL divergence 0.6388, 50 iterations in 0.0454 sec\n",
      "Iteration  200, KL divergence 0.6326, 50 iterations in 0.0454 sec\n",
      "Iteration  250, KL divergence 0.6233, 50 iterations in 0.0454 sec\n",
      "Iteration  300, KL divergence 0.6175, 50 iterations in 0.0552 sec\n",
      "Iteration  350, KL divergence 0.6150, 50 iterations in 0.0495 sec\n",
      "Iteration  400, KL divergence 0.6151, 50 iterations in 0.0464 sec\n",
      "Iteration  450, KL divergence 0.6153, 50 iterations in 0.0450 sec\n",
      "Iteration  500, KL divergence 0.6153, 50 iterations in 0.0450 sec\n",
      "   --> Time elapsed: 0.48 seconds\n"
     ]
    },
    {
     "data": {
      "text/plain": [
       "(114, 2)"
      ]
     },
     "metadata": {},
     "output_type": "display_data"
    },
    {
     "data": {
      "text/html": [
       "<div>\n",
       "<style scoped>\n",
       "    .dataframe tbody tr th:only-of-type {\n",
       "        vertical-align: middle;\n",
       "    }\n",
       "\n",
       "    .dataframe tbody tr th {\n",
       "        vertical-align: top;\n",
       "    }\n",
       "\n",
       "    .dataframe thead th {\n",
       "        text-align: right;\n",
       "    }\n",
       "</style>\n",
       "<table border=\"1\" class=\"dataframe\">\n",
       "  <thead>\n",
       "    <tr style=\"text-align: right;\">\n",
       "      <th></th>\n",
       "      <th>codeUnit</th>\n",
       "      <th>artifact</th>\n",
       "      <th>communityId</th>\n",
       "      <th>centrality</th>\n",
       "      <th>x</th>\n",
       "      <th>y</th>\n",
       "    </tr>\n",
       "  </thead>\n",
       "  <tbody>\n",
       "    <tr>\n",
       "      <th>0</th>\n",
       "      <td>org.axonframework.config</td>\n",
       "      <td>axon-configuration-4.10.3</td>\n",
       "      <td>0</td>\n",
       "      <td>0.047302</td>\n",
       "      <td>-3.746449</td>\n",
       "      <td>5.976571</td>\n",
       "    </tr>\n",
       "    <tr>\n",
       "      <th>1</th>\n",
       "      <td>org.axonframework.eventsourcing.eventstore</td>\n",
       "      <td>axon-eventsourcing-4.10.3</td>\n",
       "      <td>0</td>\n",
       "      <td>0.037034</td>\n",
       "      <td>3.681591</td>\n",
       "      <td>2.696897</td>\n",
       "    </tr>\n",
       "    <tr>\n",
       "      <th>2</th>\n",
       "      <td>org.axonframework.eventsourcing.eventstore.inm...</td>\n",
       "      <td>axon-eventsourcing-4.10.3</td>\n",
       "      <td>0</td>\n",
       "      <td>0.012211</td>\n",
       "      <td>-7.381441</td>\n",
       "      <td>-0.539348</td>\n",
       "    </tr>\n",
       "    <tr>\n",
       "      <th>3</th>\n",
       "      <td>org.axonframework.eventsourcing.eventstore.jdbc</td>\n",
       "      <td>axon-eventsourcing-4.10.3</td>\n",
       "      <td>0</td>\n",
       "      <td>0.023525</td>\n",
       "      <td>1.072075</td>\n",
       "      <td>1.066404</td>\n",
       "    </tr>\n",
       "    <tr>\n",
       "      <th>4</th>\n",
       "      <td>org.axonframework.eventsourcing.eventstore.jdb...</td>\n",
       "      <td>axon-eventsourcing-4.10.3</td>\n",
       "      <td>0</td>\n",
       "      <td>0.015345</td>\n",
       "      <td>-2.965090</td>\n",
       "      <td>-4.916114</td>\n",
       "    </tr>\n",
       "  </tbody>\n",
       "</table>\n",
       "</div>"
      ],
      "text/plain": [
       "                                            codeUnit  \\\n",
       "0                           org.axonframework.config   \n",
       "1         org.axonframework.eventsourcing.eventstore   \n",
       "2  org.axonframework.eventsourcing.eventstore.inm...   \n",
       "3    org.axonframework.eventsourcing.eventstore.jdbc   \n",
       "4  org.axonframework.eventsourcing.eventstore.jdb...   \n",
       "\n",
       "                    artifact  communityId  centrality         x         y  \n",
       "0  axon-configuration-4.10.3            0    0.047302 -3.746449  5.976571  \n",
       "1  axon-eventsourcing-4.10.3            0    0.037034  3.681591  2.696897  \n",
       "2  axon-eventsourcing-4.10.3            0    0.012211 -7.381441 -0.539348  \n",
       "3  axon-eventsourcing-4.10.3            0    0.023525  1.072075  1.066404  \n",
       "4  axon-eventsourcing-4.10.3            0    0.015345 -2.965090 -4.916114  "
      ]
     },
     "metadata": {},
     "output_type": "display_data"
    },
    {
     "data": {
      "image/png": "[encoded data removed]",
      "text/plain": [
       "<Figure size 640x480 with 1 Axes>"
      ]
     },
     "metadata": {},
     "output_type": "display_data"
    }
   ],
   "source": [
    "java_package_embeddings_parameters={\n",
    "    \"dependencies_projection\": \"java-package-embeddings-notebook\",\n",
    "    \"dependencies_projection_node\": \"Package\",\n",
    "    \"dependencies_projection_weight_property\": \"weight25PercentInterfaces\",\n",
    "    \"dependencies_projection_write_property\": \"embeddingsHashGNN\",\n",
    "    \"dependencies_projection_embedding_dimension\":\"64\"\n",
    "}\n",
    "embeddings = create_node_embeddings(\"../cypher/Node_Embeddings/Node_Embeddings_2d_Hash_GNN_Stream.cypher\", java_package_embeddings_parameters)\n",
    "node_embeddings_for_visualization = prepare_node_embeddings_for_2d_visualization(embeddings)\n",
    "plot_2d_node_embeddings(\n",
    "    node_embeddings_for_visualization, \n",
    "    \"Java Package positioned by their dependency relationships (HashGNN node embeddings + t-SNE)\"\n",
    ")"
   ]
  },
  {
   "cell_type": "markdown",
   "id": "248d88b4",
   "metadata": {},
   "source": [
    "### 2.5 Node Embeddings for Java Packages using node2vec"
   ]
  },
  {
   "cell_type": "code",
   "execution_count": 18,
   "id": "62c40c45",
   "metadata": {
    "execution": {
     "iopub.execute_input": "2025-01-26T11:46:59.323953Z",
     "iopub.status.busy": "2025-01-26T11:46:59.323652Z",
     "iopub.status.idle": "2025-01-26T11:47:00.237960Z",
     "shell.execute_reply": "2025-01-26T11:47:00.237420Z"
    }
   },
   "outputs": [
    {
     "name": "stdout",
     "output_type": "stream",
     "text": [
      "The results have been provided by the query filename: ../cypher/Node_Embeddings/Node_Embeddings_0a_Query_Calculated.cypher\n"
     ]
    },
    {
     "data": {
      "text/html": [
       "<div>\n",
       "<style scoped>\n",
       "    .dataframe tbody tr th:only-of-type {\n",
       "        vertical-align: middle;\n",
       "    }\n",
       "\n",
       "    .dataframe tbody tr th {\n",
       "        vertical-align: top;\n",
       "    }\n",
       "\n",
       "    .dataframe thead th {\n",
       "        text-align: right;\n",
       "    }\n",
       "</style>\n",
       "<table border=\"1\" class=\"dataframe\">\n",
       "  <thead>\n",
       "    <tr style=\"text-align: right;\">\n",
       "      <th></th>\n",
       "      <th>codeUnitName</th>\n",
       "      <th>shortCodeUnitName</th>\n",
       "      <th>projectName</th>\n",
       "      <th>communityId</th>\n",
       "      <th>centrality</th>\n",
       "      <th>embedding</th>\n",
       "    </tr>\n",
       "  </thead>\n",
       "  <tbody>\n",
       "    <tr>\n",
       "      <th>0</th>\n",
       "      <td>org.axonframework.config</td>\n",
       "      <td>config</td>\n",
       "      <td>axon-configuration-4.10.3</td>\n",
       "      <td>0</td>\n",
       "      <td>0.047302</td>\n",
       "      <td>[-0.3523493707180023, -0.5412119626998901, -0....</td>\n",
       "    </tr>\n",
       "    <tr>\n",
       "      <th>1</th>\n",
       "      <td>org.axonframework.eventsourcing.eventstore</td>\n",
       "      <td>eventstore</td>\n",
       "      <td>axon-eventsourcing-4.10.3</td>\n",
       "      <td>0</td>\n",
       "      <td>0.037034</td>\n",
       "      <td>[-0.17614221572875977, -0.33080822229385376, -...</td>\n",
       "    </tr>\n",
       "    <tr>\n",
       "      <th>2</th>\n",
       "      <td>org.axonframework.eventsourcing.eventstore.inm...</td>\n",
       "      <td>inmemory</td>\n",
       "      <td>axon-eventsourcing-4.10.3</td>\n",
       "      <td>0</td>\n",
       "      <td>0.012211</td>\n",
       "      <td>[-0.04669889435172081, -0.34994253516197205, -...</td>\n",
       "    </tr>\n",
       "    <tr>\n",
       "      <th>3</th>\n",
       "      <td>org.axonframework.eventsourcing.eventstore.jdbc</td>\n",
       "      <td>jdbc</td>\n",
       "      <td>axon-eventsourcing-4.10.3</td>\n",
       "      <td>0</td>\n",
       "      <td>0.023525</td>\n",
       "      <td>[0.3997066617012024, -0.3343905806541443, 0.02...</td>\n",
       "    </tr>\n",
       "    <tr>\n",
       "      <th>4</th>\n",
       "      <td>org.axonframework.eventsourcing.eventstore.jdb...</td>\n",
       "      <td>statements</td>\n",
       "      <td>axon-eventsourcing-4.10.3</td>\n",
       "      <td>0</td>\n",
       "      <td>0.015345</td>\n",
       "      <td>[0.38225504755973816, -0.20854157209396362, -0...</td>\n",
       "    </tr>\n",
       "  </tbody>\n",
       "</table>\n",
       "</div>"
      ],
      "text/plain": [
       "                                        codeUnitName shortCodeUnitName  \\\n",
       "0                           org.axonframework.config            config   \n",
       "1         org.axonframework.eventsourcing.eventstore        eventstore   \n",
       "2  org.axonframework.eventsourcing.eventstore.inm...          inmemory   \n",
       "3    org.axonframework.eventsourcing.eventstore.jdbc              jdbc   \n",
       "4  org.axonframework.eventsourcing.eventstore.jdb...        statements   \n",
       "\n",
       "                 projectName  communityId  centrality  \\\n",
       "0  axon-configuration-4.10.3            0    0.047302   \n",
       "1  axon-eventsourcing-4.10.3            0    0.037034   \n",
       "2  axon-eventsourcing-4.10.3            0    0.012211   \n",
       "3  axon-eventsourcing-4.10.3            0    0.023525   \n",
       "4  axon-eventsourcing-4.10.3            0    0.015345   \n",
       "\n",
       "                                           embedding  \n",
       "0  [-0.3523493707180023, -0.5412119626998901, -0....  \n",
       "1  [-0.17614221572875977, -0.33080822229385376, -...  \n",
       "2  [-0.04669889435172081, -0.34994253516197205, -...  \n",
       "3  [0.3997066617012024, -0.3343905806541443, 0.02...  \n",
       "4  [0.38225504755973816, -0.20854157209396362, -0...  "
      ]
     },
     "metadata": {},
     "output_type": "display_data"
    },
    {
     "name": "stdout",
     "output_type": "stream",
     "text": [
      "--------------------------------------------------------------------------------\n",
      "TSNE(early_exaggeration=12, random_state=47, verbose=1)\n",
      "--------------------------------------------------------------------------------\n",
      "===> Finding 90 nearest neighbors using exact search using euclidean distance...\n",
      "   --> Time elapsed: 0.00 seconds\n",
      "===> Calculating affinity matrix...\n",
      "   --> Time elapsed: 0.00 seconds\n",
      "===> Calculating PCA-based initialization...\n",
      "   --> Time elapsed: 0.00 seconds\n",
      "===> Running optimization with exaggeration=12.00, lr=9.50 for 250 iterations...\n",
      "Iteration   50, KL divergence -0.3198, 50 iterations in 0.0643 sec\n",
      "Iteration  100, KL divergence -2.4879, 50 iterations in 0.0199 sec\n",
      "Iteration  150, KL divergence 1.1556, 50 iterations in 0.0156 sec\n",
      "Iteration  200, KL divergence 1.1556, 50 iterations in 0.0148 sec\n",
      "Iteration  250, KL divergence 1.1556, 50 iterations in 0.0147 sec\n",
      "   --> Time elapsed: 0.13 seconds\n",
      "===> Running optimization with exaggeration=1.00, lr=114.00 for 500 iterations...\n",
      "Iteration   50, KL divergence 0.3978, 50 iterations in 0.0555 sec\n",
      "Iteration  100, KL divergence 0.3655, 50 iterations in 0.0496 sec\n",
      "Iteration  150, KL divergence 0.3268, 50 iterations in 0.0451 sec\n",
      "Iteration  200, KL divergence 0.3229, 50 iterations in 0.0435 sec\n",
      "Iteration  250, KL divergence 0.3228, 50 iterations in 0.0438 sec\n",
      "Iteration  300, KL divergence 0.3228, 50 iterations in 0.0439 sec\n",
      "Iteration  350, KL divergence 0.3229, 50 iterations in 0.0449 sec\n",
      "Iteration  400, KL divergence 0.3229, 50 iterations in 0.0441 sec\n",
      "Iteration  450, KL divergence 0.3229, 50 iterations in 0.0436 sec\n",
      "Iteration  500, KL divergence 0.3228, 50 iterations in 0.0435 sec\n",
      "   --> Time elapsed: 0.46 seconds\n"
     ]
    },
    {
     "data": {
      "text/plain": [
       "(114, 2)"
      ]
     },
     "metadata": {},
     "output_type": "display_data"
    },
    {
     "data": {
      "text/html": [
       "<div>\n",
       "<style scoped>\n",
       "    .dataframe tbody tr th:only-of-type {\n",
       "        vertical-align: middle;\n",
       "    }\n",
       "\n",
       "    .dataframe tbody tr th {\n",
       "        vertical-align: top;\n",
       "    }\n",
       "\n",
       "    .dataframe thead th {\n",
       "        text-align: right;\n",
       "    }\n",
       "</style>\n",
       "<table border=\"1\" class=\"dataframe\">\n",
       "  <thead>\n",
       "    <tr style=\"text-align: right;\">\n",
       "      <th></th>\n",
       "      <th>codeUnit</th>\n",
       "      <th>artifact</th>\n",
       "      <th>communityId</th>\n",
       "      <th>centrality</th>\n",
       "      <th>x</th>\n",
       "      <th>y</th>\n",
       "    </tr>\n",
       "  </thead>\n",
       "  <tbody>\n",
       "    <tr>\n",
       "      <th>0</th>\n",
       "      <td>org.axonframework.config</td>\n",
       "      <td>axon-configuration-4.10.3</td>\n",
       "      <td>0</td>\n",
       "      <td>0.047302</td>\n",
       "      <td>0.552350</td>\n",
       "      <td>0.425701</td>\n",
       "    </tr>\n",
       "    <tr>\n",
       "      <th>1</th>\n",
       "      <td>org.axonframework.eventsourcing.eventstore</td>\n",
       "      <td>axon-eventsourcing-4.10.3</td>\n",
       "      <td>0</td>\n",
       "      <td>0.037034</td>\n",
       "      <td>-0.092131</td>\n",
       "      <td>3.326102</td>\n",
       "    </tr>\n",
       "    <tr>\n",
       "      <th>2</th>\n",
       "      <td>org.axonframework.eventsourcing.eventstore.inm...</td>\n",
       "      <td>axon-eventsourcing-4.10.3</td>\n",
       "      <td>0</td>\n",
       "      <td>0.012211</td>\n",
       "      <td>-1.162820</td>\n",
       "      <td>1.479006</td>\n",
       "    </tr>\n",
       "    <tr>\n",
       "      <th>3</th>\n",
       "      <td>org.axonframework.eventsourcing.eventstore.jdbc</td>\n",
       "      <td>axon-eventsourcing-4.10.3</td>\n",
       "      <td>0</td>\n",
       "      <td>0.023525</td>\n",
       "      <td>-7.042370</td>\n",
       "      <td>1.808430</td>\n",
       "    </tr>\n",
       "    <tr>\n",
       "      <th>4</th>\n",
       "      <td>org.axonframework.eventsourcing.eventstore.jdb...</td>\n",
       "      <td>axon-eventsourcing-4.10.3</td>\n",
       "      <td>0</td>\n",
       "      <td>0.015345</td>\n",
       "      <td>-7.054077</td>\n",
       "      <td>1.812450</td>\n",
       "    </tr>\n",
       "  </tbody>\n",
       "</table>\n",
       "</div>"
      ],
      "text/plain": [
       "                                            codeUnit  \\\n",
       "0                           org.axonframework.config   \n",
       "1         org.axonframework.eventsourcing.eventstore   \n",
       "2  org.axonframework.eventsourcing.eventstore.inm...   \n",
       "3    org.axonframework.eventsourcing.eventstore.jdbc   \n",
       "4  org.axonframework.eventsourcing.eventstore.jdb...   \n",
       "\n",
       "                    artifact  communityId  centrality         x         y  \n",
       "0  axon-configuration-4.10.3            0    0.047302  0.552350  0.425701  \n",
       "1  axon-eventsourcing-4.10.3            0    0.037034 -0.092131  3.326102  \n",
       "2  axon-eventsourcing-4.10.3            0    0.012211 -1.162820  1.479006  \n",
       "3  axon-eventsourcing-4.10.3            0    0.023525 -7.042370  1.808430  \n",
       "4  axon-eventsourcing-4.10.3            0    0.015345 -7.054077  1.812450  "
      ]
     },
     "metadata": {},
     "output_type": "display_data"
    },
    {
     "data": {
      "image/png": "[encoded data removed]",
      "text/plain": [
       "<Figure size 640x480 with 1 Axes>"
      ]
     },
     "metadata": {},
     "output_type": "display_data"
    }
   ],
   "source": [
    "java_package_embeddings_parameters={\n",
    "    \"dependencies_projection\": \"java-package-embeddings-notebook\",\n",
    "    \"dependencies_projection_node\": \"Package\",\n",
    "    \"dependencies_projection_weight_property\": \"weight25PercentInterfaces\",\n",
    "    \"dependencies_projection_write_property\": \"embeddingsNode2Vec\",\n",
    "    \"dependencies_projection_embedding_dimension\":\"32\"\n",
    "}\n",
    "embeddings = create_node_embeddings(\"../cypher/Node_Embeddings/Node_Embeddings_3d_Node2Vec_Stream.cypher\", java_package_embeddings_parameters)\n",
    "node_embeddings_for_visualization = prepare_node_embeddings_for_2d_visualization(embeddings)\n",
    "plot_2d_node_embeddings(\n",
    "    node_embeddings_for_visualization, \n",
    "    \"Java Package positioned by their dependency relationships (node2vec node embeddings + t-SNE)\"\n",
    ")"
   ]
  }
 ],
 "metadata": {
  "authors": [
   {
    "name": "JohT"
   }
  ],
  "code_graph_analysis_pipeline_data_validation": "ValidateJavaPackageDependencies",
  "kernelspec": {
   "display_name": "Python 3 (ipykernel)",
   "language": "python",
   "name": "python3"
  },
  "language_info": {
   "codemirror_mode": {
    "name": "ipython",
    "version": 3
   },
   "file_extension": ".py",
   "mimetype": "text/x-python",
   "name": "python",
   "nbconvert_exporter": "python",
   "pygments_lexer": "ipython3",
   "version": "3.11.0"
  },
  "title": "Object Oriented Design Quality Metrics for Java with Neo4j"
 },
 "nbformat": 4,
 "nbformat_minor": 5
}
