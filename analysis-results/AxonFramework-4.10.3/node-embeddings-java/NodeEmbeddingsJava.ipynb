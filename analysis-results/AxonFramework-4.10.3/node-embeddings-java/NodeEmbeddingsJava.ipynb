{
 "cells": [
  {
   "attachments": {},
   "cell_type": "markdown",
   "id": "2f0eabc4",
   "metadata": {},
   "source": [
    "# Node Embeddings\n",
    "\n",
    "This notebook demonstrates different methods for node embeddings and how to further reduce their dimensionality to be able to visualize them in a 2D plot. \n",
    "\n",
    "Node embeddings are essentially an array of floating point numbers (length = embedding dimension) that can be used as \"features\" in machine learning. These numbers approximate the relationship and similarity information of each node and can also be seen as a way to encode the topology of the graph.\n",
    "\n",
    "## Considerations\n",
    "\n",
    "Due to dimensionality reduction some information gets lost, especially when visualizing node embeddings in two dimensions. Nevertheless, it helps to get an intuition on what node embeddings are and how much of the similarity and neighborhood information is retained. The latter can be observed by how well nodes of the same color and therefore same community are placed together and how much bigger nodes with a high centrality score influence them. \n",
    "\n",
    "If the visualization doesn't show a somehow clear separation between the communities (colors) here are some ideas for tuning: \n",
    "- Clean the data, e.g. filter out very few nodes with extremely high degree that aren't actually that important\n",
    "- Try directed vs. undirected projections\n",
    "- Tune the embedding algorithm, e.g. use a higher dimensionality\n",
    "- Tune t-SNE that is used to reduce the node embeddings dimension to two dimensions for visualization. \n",
    "\n",
    "It could also be the case that the node embeddings are good enough and well suited the way they are despite their visualization for the down stream task like node classification or link prediction. In that case it makes sense to see how the whole pipeline performs before tuning the node embeddings in detail. \n",
    "\n",
    "## Note about data dependencies\n",
    "\n",
    "PageRank centrality and Leiden community are also fetched from the Graph and need to be calculated first.\n",
    "This makes it easier to see if the embeddings approximate the structural information of the graph in the plot.\n",
    "If these properties are missing you will only see black dots all of the same size.\n",
    "\n",
    "<br>  \n",
    "\n",
    "### References\n",
    "- [jqassistant](https://jqassistant.org)\n",
    "- [Neo4j Python Driver](https://neo4j.com/docs/api/python-driver/current)\n",
    "- [Tutorial: Applied Graph Embeddings](https://neo4j.com/developer/graph-data-science/applied-graph-embeddings)\n",
    "- [Visualizing the embeddings in 2D](https://github.com/openai/openai-cookbook/blob/main/examples/Visualizing_embeddings_in_2D.ipynb)\n",
    "- [scikit-learn TSNE](https://scikit-learn.org/stable/modules/generated/sklearn.manifold.TSNE.html#sklearn.manifold.TSNE)\n",
    "- [AttributeError: 'list' object has no attribute 'shape'](https://bobbyhadz.com/blog/python-attributeerror-list-object-has-no-attribute-shape)\n",
    "- [Fast Random Projection (neo4j)](https://neo4j.com/docs/graph-data-science/current/machine-learning/node-embeddings/fastrp)\n",
    "- [HashGNN (neo4j)](https://neo4j.com/docs/graph-data-science/2.6/machine-learning/node-embeddings/hashgnn)\n",
    "- [node2vec (neo4j)](https://neo4j.com/docs/graph-data-science/current/machine-learning/node-embeddings/node2vec) computes a vector representation of a node based on second order random walks in the graph. \n",
    "- [Complete guide to understanding Node2Vec algorithm](https://towardsdatascience.com/complete-guide-to-understanding-node2vec-algorithm-4e9a35e5d147)"
   ]
  },
  {
   "cell_type": "code",
   "execution_count": 1,
   "id": "4191f259",
   "metadata": {
    "execution": {
     "iopub.execute_input": "2025-01-16T07:34:28.972401Z",
     "iopub.status.busy": "2025-01-16T07:34:28.972164Z",
     "iopub.status.idle": "2025-01-16T07:34:30.131404Z",
     "shell.execute_reply": "2025-01-16T07:34:30.130802Z"
    }
   },
   "outputs": [],
   "source": [
    "import os\n",
    "from IPython.display import display\n",
    "import pandas as pd\n",
    "import matplotlib.pyplot as plot\n",
    "import typing as typ\n",
    "import numpy as np\n",
    "from openTSNE.sklearn import TSNE\n",
    "from neo4j import GraphDatabase"
   ]
  },
  {
   "cell_type": "code",
   "execution_count": 2,
   "id": "f8ef41ff",
   "metadata": {
    "execution": {
     "iopub.execute_input": "2025-01-16T07:34:30.134136Z",
     "iopub.status.busy": "2025-01-16T07:34:30.133789Z",
     "iopub.status.idle": "2025-01-16T07:34:30.137375Z",
     "shell.execute_reply": "2025-01-16T07:34:30.136835Z"
    }
   },
   "outputs": [
    {
     "name": "stdout",
     "output_type": "stream",
     "text": [
      "The openTSNE version is: 1.0.1\n",
      "The pandas version is: 1.5.1\n"
     ]
    }
   ],
   "source": [
    "from openTSNE import __version__ as openTSNE_version\n",
    "print('The openTSNE version is: {}'.format(openTSNE_version))\n",
    "print('The pandas version is: {}'.format(pd.__version__))\n"
   ]
  },
  {
   "cell_type": "code",
   "execution_count": 3,
   "id": "1c5dab37",
   "metadata": {
    "execution": {
     "iopub.execute_input": "2025-01-16T07:34:30.139576Z",
     "iopub.status.busy": "2025-01-16T07:34:30.139413Z",
     "iopub.status.idle": "2025-01-16T07:34:30.147440Z",
     "shell.execute_reply": "2025-01-16T07:34:30.146892Z"
    }
   },
   "outputs": [],
   "source": [
    "# Please set the environment variable \"NEO4J_INITIAL_PASSWORD\" in your shell \n",
    "# before starting jupyter notebook to provide the password for the user \"neo4j\". \n",
    "# It is not recommended to hardcode the password into jupyter notebook for security reasons.\n",
    "\n",
    "driver = GraphDatabase.driver(uri=\"bolt://localhost:7687\", auth=(\"neo4j\", os.environ.get(\"NEO4J_INITIAL_PASSWORD\")))\n",
    "driver.verify_connectivity()"
   ]
  },
  {
   "cell_type": "code",
   "execution_count": 4,
   "id": "c1db254b",
   "metadata": {
    "execution": {
     "iopub.execute_input": "2025-01-16T07:34:30.149447Z",
     "iopub.status.busy": "2025-01-16T07:34:30.149282Z",
     "iopub.status.idle": "2025-01-16T07:34:30.152027Z",
     "shell.execute_reply": "2025-01-16T07:34:30.151478Z"
    }
   },
   "outputs": [],
   "source": [
    "def get_cypher_query_from_file(filename):\n",
    "    with open(filename) as file:\n",
    "        return ' '.join(file.readlines())"
   ]
  },
  {
   "cell_type": "code",
   "execution_count": 5,
   "id": "59310f6f",
   "metadata": {
    "execution": {
     "iopub.execute_input": "2025-01-16T07:34:30.154235Z",
     "iopub.status.busy": "2025-01-16T07:34:30.153888Z",
     "iopub.status.idle": "2025-01-16T07:34:30.157108Z",
     "shell.execute_reply": "2025-01-16T07:34:30.156576Z"
    }
   },
   "outputs": [],
   "source": [
    "def query_cypher_to_data_frame(filename, parameters_: typ.Optional[typ.Dict[str, typ.Any]] = None):\n",
    "    records, summary, keys = driver.execute_query(get_cypher_query_from_file(filename),parameters_=parameters_)\n",
    "    return pd.DataFrame([r.values() for r in records], columns=keys)"
   ]
  },
  {
   "cell_type": "code",
   "execution_count": 6,
   "id": "bd1d9775",
   "metadata": {
    "execution": {
     "iopub.execute_input": "2025-01-16T07:34:30.159100Z",
     "iopub.status.busy": "2025-01-16T07:34:30.158915Z",
     "iopub.status.idle": "2025-01-16T07:34:30.162387Z",
     "shell.execute_reply": "2025-01-16T07:34:30.161861Z"
    }
   },
   "outputs": [],
   "source": [
    "def query_first_non_empty_cypher_to_data_frame(*filenames : str, parameters: typ.Optional[typ.Dict[str, typ.Any]] = None):\n",
    "    \"\"\"\n",
    "    Executes the Cypher queries of the given files and returns the first result that is not empty.\n",
    "    If all given file names result in empty results, the last (empty) result will be returned.\n",
    "    By additionally specifying \"limit=\" the \"LIMIT\" keyword will appended to query so that only the first results get returned.\n",
    "    \"\"\"\n",
    "    result=pd.DataFrame()\n",
    "    for filename in filenames:\n",
    "        result=query_cypher_to_data_frame(filename, parameters)\n",
    "        if not result.empty:\n",
    "            print(\"The results have been provided by the query filename: \" + filename)\n",
    "            return result\n",
    "    return result"
   ]
  },
  {
   "cell_type": "code",
   "execution_count": 7,
   "id": "7d2e62d6",
   "metadata": {
    "execution": {
     "iopub.execute_input": "2025-01-16T07:34:30.164348Z",
     "iopub.status.busy": "2025-01-16T07:34:30.164190Z",
     "iopub.status.idle": "2025-01-16T07:34:30.167663Z",
     "shell.execute_reply": "2025-01-16T07:34:30.167141Z"
    }
   },
   "outputs": [],
   "source": [
    "# TODO option to choose between directed and undirected projection\n",
    "\n",
    "def create_undirected_projection(parameters: dict) -> bool: \n",
    "    \"\"\"\n",
    "    Creates an undirected homogenous in-memory Graph projection for/with Neo4j Graph Data Science Plugin.\n",
    "    It returns True if there is data available for the given parameter and False otherwise.\n",
    "    Parameters\n",
    "    ----------\n",
    "    dependencies_projection : str\n",
    "        The name prefix for the in-memory projection for dependencies. Example: \"java-package-embeddings-notebook\"\n",
    "    dependencies_projection_node : str\n",
    "        The label of the nodes that will be used for the projection. Example: \"Package\"\n",
    "    dependencies_projection_weight_property : str\n",
    "        The name of the node property that contains the dependency weight. Example: \"weight25PercentInterfaces\"\n",
    "    dependencies_projection_embedding_dimension : str\n",
    "        The number of the dimensions and therefore size of the resulting array of floating point numbers\n",
    "    \"\"\"\n",
    "    \n",
    "    is_data_missing=query_cypher_to_data_frame(\"../cypher/Dependencies_Projection/Dependencies_0_Check_Projectable.cypher\", parameters).empty\n",
    "    if is_data_missing: return False\n",
    "\n",
    "    query_cypher_to_data_frame(\"../cypher/Dependencies_Projection/Dependencies_1_Delete_Projection.cypher\", parameters)\n",
    "    query_cypher_to_data_frame(\"../cypher/Dependencies_Projection/Dependencies_2_Delete_Subgraph.cypher\", parameters)\n",
    "    # To include the direction of the relationships use the following line to create the projection:\n",
    "    # query_cypher_to_data_frame(\"../cypher/Dependencies_Projection/Dependencies_3_Create_Projection.cypher\", parameters)\n",
    "    query_cypher_to_data_frame(\"../cypher/Dependencies_Projection/Dependencies_4_Create_Undirected_Projection.cypher\", parameters)\n",
    "    query_cypher_to_data_frame(\"../cypher/Dependencies_Projection/Dependencies_5_Create_Subgraph.cypher\", parameters)\n",
    "    return True"
   ]
  },
  {
   "cell_type": "code",
   "execution_count": 8,
   "id": "1aa86093",
   "metadata": {
    "execution": {
     "iopub.execute_input": "2025-01-16T07:34:30.169608Z",
     "iopub.status.busy": "2025-01-16T07:34:30.169448Z",
     "iopub.status.idle": "2025-01-16T07:34:30.173264Z",
     "shell.execute_reply": "2025-01-16T07:34:30.172743Z"
    }
   },
   "outputs": [],
   "source": [
    "# Feature ideas\n",
    "# TODO option to choose between directed and undirected projection\n",
    "# TODO option to not read already existing node embeddings to experiment with different (hpyer) parameters\n",
    "# TODO run a community detection algorithm co-located in here when \"communityId\" is missing\n",
    "# TODO run a centrality algorithm co-located in here when \"centrality\" score is missing\n",
    "\n",
    "def create_node_embeddings(cypher_file_name: str, parameters: dict) -> pd.DataFrame: \n",
    "    \"\"\"\n",
    "    Creates an in-memory Graph projection by calling \"create_undirected_projection\", \n",
    "    runs the cypher Query given as cypherFileName parameter to calculate and stream the node embeddings\n",
    "    and returns a DataFrame with the results.\n",
    "    \n",
    "    cypher_file_name\n",
    "    ----------\n",
    "    Name of the file containing the Cypher query that executes node embeddings procedure.\n",
    "\n",
    "    parameters\n",
    "    ----------\n",
    "    dependencies_projection : str\n",
    "        The name prefix for the in-memory projection for dependencies. Example: \"java-package-embeddings-notebook\"\n",
    "    dependencies_projection_node : str\n",
    "        The label of the nodes that will be used for the projection. Example: \"Package\"\n",
    "    dependencies_projection_weight_property : str\n",
    "        The name of the node property that contains the dependency weight. Example: \"weight25PercentInterfaces\"\n",
    "    dependencies_projection_embedding_dimension : str\n",
    "        The number of the dimensions and therefore size of the resulting array of floating point numbers\n",
    "    \"\"\"\n",
    "    \n",
    "    is_data_available=create_undirected_projection(parameters)\n",
    "    \n",
    "    if not is_data_available:\n",
    "        print(\"No projected data for node embeddings calculation available\")\n",
    "        empty_result = pd.DataFrame(columns=[\"codeUnitName\", 'projectName', 'communityId', 'centrality', 'embedding'])\n",
    "        return empty_result\n",
    "\n",
    "    existing_embeddings_query_filename=\"../cypher/Node_Embeddings/Node_Embeddings_0a_Query_Calculated.cypher\"\n",
    "    embeddings = query_first_non_empty_cypher_to_data_frame(existing_embeddings_query_filename, cypher_file_name, parameters=parameters)\n",
    "    display(embeddings.head()) # Display the first entries of the table\n",
    "    return embeddings"
   ]
  },
  {
   "cell_type": "markdown",
   "id": "f6ec6a9b",
   "metadata": {},
   "source": [
    "### Dimensionality reduction with t-distributed stochastic neighbor embedding (t-SNE)\n",
    "\n",
    "The following function takes the original node embeddings with a higher dimensionality, e.g. 64 floating point numbers, and reduces them into a two dimensional array for visualization. \n",
    "\n",
    "> It converts similarities between data points to joint probabilities and tries to minimize the Kullback-Leibler divergence between the joint probabilities of the low-dimensional embedding and the high-dimensional data.\n",
    "\n",
    "(see https://opentsne.readthedocs.io)"
   ]
  },
  {
   "cell_type": "code",
   "execution_count": 9,
   "id": "720aebd3",
   "metadata": {
    "execution": {
     "iopub.execute_input": "2025-01-16T07:34:30.175375Z",
     "iopub.status.busy": "2025-01-16T07:34:30.175215Z",
     "iopub.status.idle": "2025-01-16T07:34:30.179492Z",
     "shell.execute_reply": "2025-01-16T07:34:30.178997Z"
    }
   },
   "outputs": [],
   "source": [
    "def prepare_node_embeddings_for_2d_visualization(embeddings: pd.DataFrame) -> pd.DataFrame:\n",
    "    \"\"\"\n",
    "    Reduces the dimensionality of the node embeddings (e.g. 64 floating point numbers in an array)\n",
    "    to two dimensions for 2D visualization.\n",
    "    see https://opentsne.readthedocs.io\n",
    "    \"\"\"\n",
    "\n",
    "    if embeddings.empty: \n",
    "        print(\"No projected data for node embeddings dimensionality reduction available\")\n",
    "        return embeddings\n",
    "    \n",
    "    # Calling the fit_transform method just with a list doesn't seem to work (anymore?). \n",
    "    # It leads to an error with the following message: 'list' object has no attribute 'shape'\n",
    "    # This can be solved by converting the list to a numpy array using np.array(..).\n",
    "    # See https://bobbyhadz.com/blog/python-attributeerror-list-object-has-no-attribute-shape\n",
    "    embeddings_as_numpy_array = np.array(embeddings.embedding.to_list())\n",
    "\n",
    "    # Use t-distributed stochastic neighbor embedding (t-SNE) to reduce the dimensionality \n",
    "    # of the previously calculated node embeddings to 2 dimensions for visualization\n",
    "    t_distributed_stochastic_neighbor_embedding = TSNE(n_components=2, verbose=1, random_state=47)\n",
    "    two_dimension_node_embeddings = t_distributed_stochastic_neighbor_embedding.fit_transform(embeddings_as_numpy_array)\n",
    "    display(two_dimension_node_embeddings.shape) # Display the shape of the t-SNE result\n",
    "\n",
    "    # Create a new DataFrame with the results of the 2 dimensional node embeddings\n",
    "    # and the code unit and artifact name of the query above as preparation for the plot\n",
    "    node_embeddings_for_visualization = pd.DataFrame(data = {\n",
    "        \"codeUnit\": embeddings.codeUnitName,\n",
    "        \"artifact\": embeddings.projectName,\n",
    "        \"communityId\": embeddings.communityId,\n",
    "        \"centrality\": embeddings.centrality,\n",
    "        \"x\": [value[0] for value in two_dimension_node_embeddings],\n",
    "        \"y\": [value[1] for value in two_dimension_node_embeddings]\n",
    "    })\n",
    "    display(node_embeddings_for_visualization.head()) # Display the first line of the results\n",
    "    return node_embeddings_for_visualization\n",
    "    "
   ]
  },
  {
   "cell_type": "code",
   "execution_count": 10,
   "id": "d937e26e",
   "metadata": {
    "execution": {
     "iopub.execute_input": "2025-01-16T07:34:30.181546Z",
     "iopub.status.busy": "2025-01-16T07:34:30.181346Z",
     "iopub.status.idle": "2025-01-16T07:34:30.184618Z",
     "shell.execute_reply": "2025-01-16T07:34:30.184093Z"
    }
   },
   "outputs": [],
   "source": [
    "def plot_2d_node_embeddings(node_embeddings_for_visualization: pd.DataFrame, title: str):\n",
    "    if embeddings.empty:\n",
    "        print(\"No projected data to plot available\")\n",
    "        return\n",
    "\n",
    "    plot.scatter(\n",
    "        x=node_embeddings_for_visualization.x,\n",
    "        y=node_embeddings_for_visualization.y,\n",
    "        s=node_embeddings_for_visualization.centrality * 300,\n",
    "        c=node_embeddings_for_visualization.communityId,\n",
    "        cmap=main_color_map,\n",
    "    )\n",
    "    plot.title(title)\n",
    "    plot.show()"
   ]
  },
  {
   "cell_type": "code",
   "execution_count": 11,
   "id": "da9e8edb",
   "metadata": {
    "execution": {
     "iopub.execute_input": "2025-01-16T07:34:30.186588Z",
     "iopub.status.busy": "2025-01-16T07:34:30.186428Z",
     "iopub.status.idle": "2025-01-16T07:34:30.188817Z",
     "shell.execute_reply": "2025-01-16T07:34:30.188264Z"
    }
   },
   "outputs": [],
   "source": [
    "#The following cell uses the build-in %html \"magic\" to override the CSS style for tables to a much smaller size.\n",
    "#This is especially needed for PDF export of tables with multiple columns."
   ]
  },
  {
   "cell_type": "code",
   "execution_count": 12,
   "id": "9deaabce",
   "metadata": {
    "execution": {
     "iopub.execute_input": "2025-01-16T07:34:30.190775Z",
     "iopub.status.busy": "2025-01-16T07:34:30.190613Z",
     "iopub.status.idle": "2025-01-16T07:34:30.197698Z",
     "shell.execute_reply": "2025-01-16T07:34:30.197088Z"
    }
   },
   "outputs": [
    {
     "data": {
      "text/html": [
       "<style>\n",
       "/* CSS style for smaller dataframe tables. */\n",
       ".dataframe th {\n",
       "    font-size: 8px;\n",
       "}\n",
       ".dataframe td {\n",
       "    font-size: 8px;\n",
       "}\n",
       "</style>\n"
      ],
      "text/plain": [
       "<IPython.core.display.HTML object>"
      ]
     },
     "metadata": {},
     "output_type": "display_data"
    }
   ],
   "source": [
    "%%html\n",
    "<style>\n",
    "/* CSS style for smaller dataframe tables. */\n",
    ".dataframe th {\n",
    "    font-size: 8px;\n",
    "}\n",
    ".dataframe td {\n",
    "    font-size: 8px;\n",
    "}\n",
    "</style>"
   ]
  },
  {
   "cell_type": "code",
   "execution_count": 13,
   "id": "c2496caf",
   "metadata": {
    "execution": {
     "iopub.execute_input": "2025-01-16T07:34:30.199649Z",
     "iopub.status.busy": "2025-01-16T07:34:30.199492Z",
     "iopub.status.idle": "2025-01-16T07:34:30.201912Z",
     "shell.execute_reply": "2025-01-16T07:34:30.201359Z"
    }
   },
   "outputs": [],
   "source": [
    "# Main Colormap\n",
    "main_color_map = 'nipy_spectral'"
   ]
  },
  {
   "cell_type": "markdown",
   "id": "0c68aa20",
   "metadata": {},
   "source": [
    "## 1. Java Packages"
   ]
  },
  {
   "cell_type": "markdown",
   "id": "145dca19",
   "metadata": {},
   "source": [
    "### 1.1 Generate Node Embeddings using Fast Random Projection (Fast RP) for Java Packages\n",
    "\n",
    "[Fast Random Projection](https://neo4j.com/docs/graph-data-science/current/machine-learning/node-embeddings/fastrp) is used to reduce the dimensionality of the node feature space while preserving most of the distance information. Nodes with similar neighborhood result in node embedding with similar vectors.\n",
    "\n",
    "**👉Hint:** To skip existing node embeddings and always calculate them based on the parameters below edit `Node_Embeddings_0a_Query_Calculated` so that it won't return any results."
   ]
  },
  {
   "cell_type": "code",
   "execution_count": 14,
   "id": "8efca2cf",
   "metadata": {
    "execution": {
     "iopub.execute_input": "2025-01-16T07:34:30.204061Z",
     "iopub.status.busy": "2025-01-16T07:34:30.203882Z",
     "iopub.status.idle": "2025-01-16T07:34:30.484405Z",
     "shell.execute_reply": "2025-01-16T07:34:30.483777Z"
    }
   },
   "outputs": [
    {
     "name": "stdout",
     "output_type": "stream",
     "text": [
      "The results have been provided by the query filename: ../cypher/Node_Embeddings/Node_Embeddings_0a_Query_Calculated.cypher\n"
     ]
    },
    {
     "data": {
      "text/html": [
       "<div>\n",
       "<style scoped>\n",
       "    .dataframe tbody tr th:only-of-type {\n",
       "        vertical-align: middle;\n",
       "    }\n",
       "\n",
       "    .dataframe tbody tr th {\n",
       "        vertical-align: top;\n",
       "    }\n",
       "\n",
       "    .dataframe thead th {\n",
       "        text-align: right;\n",
       "    }\n",
       "</style>\n",
       "<table border=\"1\" class=\"dataframe\">\n",
       "  <thead>\n",
       "    <tr style=\"text-align: right;\">\n",
       "      <th></th>\n",
       "      <th>codeUnitName</th>\n",
       "      <th>shortCodeUnitName</th>\n",
       "      <th>projectName</th>\n",
       "      <th>communityId</th>\n",
       "      <th>centrality</th>\n",
       "      <th>embedding</th>\n",
       "    </tr>\n",
       "  </thead>\n",
       "  <tbody>\n",
       "    <tr>\n",
       "      <th>0</th>\n",
       "      <td>org.axonframework.commandhandling</td>\n",
       "      <td>commandhandling</td>\n",
       "      <td>axon-messaging-4.10.3</td>\n",
       "      <td>0</td>\n",
       "      <td>0.073179</td>\n",
       "      <td>[-0.07288350909948349, -0.1765914261341095, 0....</td>\n",
       "    </tr>\n",
       "    <tr>\n",
       "      <th>1</th>\n",
       "      <td>org.axonframework.commandhandling.callbacks</td>\n",
       "      <td>callbacks</td>\n",
       "      <td>axon-messaging-4.10.3</td>\n",
       "      <td>0</td>\n",
       "      <td>0.015708</td>\n",
       "      <td>[-0.12877923250198364, -0.17969852685928345, 0...</td>\n",
       "    </tr>\n",
       "    <tr>\n",
       "      <th>2</th>\n",
       "      <td>org.axonframework.commandhandling.distributed</td>\n",
       "      <td>distributed</td>\n",
       "      <td>axon-messaging-4.10.3</td>\n",
       "      <td>0</td>\n",
       "      <td>0.023111</td>\n",
       "      <td>[-0.060300324112176895, -0.09694071114063263, ...</td>\n",
       "    </tr>\n",
       "    <tr>\n",
       "      <th>3</th>\n",
       "      <td>org.axonframework.commandhandling.distributed....</td>\n",
       "      <td>commandfilter</td>\n",
       "      <td>axon-messaging-4.10.3</td>\n",
       "      <td>0</td>\n",
       "      <td>0.013919</td>\n",
       "      <td>[-0.14091205596923828, -0.16989335417747498, 0...</td>\n",
       "    </tr>\n",
       "    <tr>\n",
       "      <th>4</th>\n",
       "      <td>org.axonframework.commandhandling.gateway</td>\n",
       "      <td>gateway</td>\n",
       "      <td>axon-messaging-4.10.3</td>\n",
       "      <td>0</td>\n",
       "      <td>0.013360</td>\n",
       "      <td>[-0.10512766987085342, -0.17009952664375305, 0...</td>\n",
       "    </tr>\n",
       "  </tbody>\n",
       "</table>\n",
       "</div>"
      ],
      "text/plain": [
       "                                        codeUnitName shortCodeUnitName  \\\n",
       "0                  org.axonframework.commandhandling   commandhandling   \n",
       "1        org.axonframework.commandhandling.callbacks         callbacks   \n",
       "2      org.axonframework.commandhandling.distributed       distributed   \n",
       "3  org.axonframework.commandhandling.distributed....     commandfilter   \n",
       "4          org.axonframework.commandhandling.gateway           gateway   \n",
       "\n",
       "             projectName  communityId  centrality  \\\n",
       "0  axon-messaging-4.10.3            0    0.073179   \n",
       "1  axon-messaging-4.10.3            0    0.015708   \n",
       "2  axon-messaging-4.10.3            0    0.023111   \n",
       "3  axon-messaging-4.10.3            0    0.013919   \n",
       "4  axon-messaging-4.10.3            0    0.013360   \n",
       "\n",
       "                                           embedding  \n",
       "0  [-0.07288350909948349, -0.1765914261341095, 0....  \n",
       "1  [-0.12877923250198364, -0.17969852685928345, 0...  \n",
       "2  [-0.060300324112176895, -0.09694071114063263, ...  \n",
       "3  [-0.14091205596923828, -0.16989335417747498, 0...  \n",
       "4  [-0.10512766987085342, -0.17009952664375305, 0...  "
      ]
     },
     "metadata": {},
     "output_type": "display_data"
    }
   ],
   "source": [
    "java_package_embeddings_parameters={\n",
    "    \"dependencies_projection\": \"java-package-embeddings-notebook\",\n",
    "    \"dependencies_projection_node\": \"Package\",\n",
    "    \"dependencies_projection_weight_property\": \"weight25PercentInterfaces\",\n",
    "    \"dependencies_projection_write_property\": \"embeddingsFastRandomProjection\",\n",
    "    \"dependencies_projection_embedding_dimension\":\"32\"\n",
    "}\n",
    "embeddings = create_node_embeddings(\"../cypher/Node_Embeddings/Node_Embeddings_1d_Fast_Random_Projection_Stream.cypher\", java_package_embeddings_parameters)\n"
   ]
  },
  {
   "cell_type": "markdown",
   "id": "76d8bca1",
   "metadata": {},
   "source": [
    "### 1.2 Dimensionality reduction with t-distributed stochastic neighbor embedding (t-SNE)\n",
    "\n",
    "This step takes the original node embeddings with a higher dimensionality, e.g. 64 floating point numbers, and reduces them into a two dimensional array for visualization. For more details look up the function declaration for \"prepare_node_embeddings_for_2d_visualization\"."
   ]
  },
  {
   "cell_type": "code",
   "execution_count": 15,
   "id": "031abacc",
   "metadata": {
    "execution": {
     "iopub.execute_input": "2025-01-16T07:34:30.486644Z",
     "iopub.status.busy": "2025-01-16T07:34:30.486478Z",
     "iopub.status.idle": "2025-01-16T07:34:31.106735Z",
     "shell.execute_reply": "2025-01-16T07:34:31.106173Z"
    }
   },
   "outputs": [
    {
     "name": "stdout",
     "output_type": "stream",
     "text": [
      "--------------------------------------------------------------------------------\n",
      "TSNE(early_exaggeration=12, random_state=47, verbose=1)\n",
      "--------------------------------------------------------------------------------\n",
      "===> Finding 90 nearest neighbors using exact search using euclidean distance...\n",
      "   --> Time elapsed: 0.03 seconds\n",
      "===> Calculating affinity matrix...\n",
      "   --> Time elapsed: 0.01 seconds\n",
      "===> Calculating PCA-based initialization...\n",
      "   --> Time elapsed: 0.01 seconds\n",
      "===> Running optimization with exaggeration=12.00, lr=9.50 for 250 iterations...\n",
      "Iteration   50, KL divergence -0.8495, 50 iterations in 0.0754 sec\n",
      "Iteration  100, KL divergence 1.2241, 50 iterations in 0.0161 sec\n",
      "Iteration  150, KL divergence 1.2241, 50 iterations in 0.0149 sec\n",
      "Iteration  200, KL divergence 1.2241, 50 iterations in 0.0147 sec\n",
      "Iteration  250, KL divergence 1.2241, 50 iterations in 0.0147 sec\n",
      "   --> Time elapsed: 0.14 seconds\n",
      "===> Running optimization with exaggeration=1.00, lr=114.00 for 500 iterations...\n",
      "Iteration   50, KL divergence 0.1592, 50 iterations in 0.0465 sec\n",
      "Iteration  100, KL divergence 0.1455, 50 iterations in 0.0430 sec\n",
      "Iteration  150, KL divergence 0.1435, 50 iterations in 0.0426 sec\n",
      "Iteration  200, KL divergence 0.1433, 50 iterations in 0.0446 sec\n",
      "Iteration  250, KL divergence 0.1434, 50 iterations in 0.0420 sec\n",
      "Iteration  300, KL divergence 0.1435, 50 iterations in 0.0431 sec\n",
      "Iteration  350, KL divergence 0.1435, 50 iterations in 0.0419 sec\n",
      "Iteration  400, KL divergence 0.1434, 50 iterations in 0.0418 sec\n",
      "Iteration  450, KL divergence 0.1435, 50 iterations in 0.0423 sec\n",
      "Iteration  500, KL divergence 0.1435, 50 iterations in 0.0416 sec\n",
      "   --> Time elapsed: 0.43 seconds\n"
     ]
    },
    {
     "data": {
      "text/plain": [
       "(114, 2)"
      ]
     },
     "metadata": {},
     "output_type": "display_data"
    },
    {
     "data": {
      "text/html": [
       "<div>\n",
       "<style scoped>\n",
       "    .dataframe tbody tr th:only-of-type {\n",
       "        vertical-align: middle;\n",
       "    }\n",
       "\n",
       "    .dataframe tbody tr th {\n",
       "        vertical-align: top;\n",
       "    }\n",
       "\n",
       "    .dataframe thead th {\n",
       "        text-align: right;\n",
       "    }\n",
       "</style>\n",
       "<table border=\"1\" class=\"dataframe\">\n",
       "  <thead>\n",
       "    <tr style=\"text-align: right;\">\n",
       "      <th></th>\n",
       "      <th>codeUnit</th>\n",
       "      <th>artifact</th>\n",
       "      <th>communityId</th>\n",
       "      <th>centrality</th>\n",
       "      <th>x</th>\n",
       "      <th>y</th>\n",
       "    </tr>\n",
       "  </thead>\n",
       "  <tbody>\n",
       "    <tr>\n",
       "      <th>0</th>\n",
       "      <td>org.axonframework.commandhandling</td>\n",
       "      <td>axon-messaging-4.10.3</td>\n",
       "      <td>0</td>\n",
       "      <td>0.073179</td>\n",
       "      <td>0.519568</td>\n",
       "      <td>3.164009</td>\n",
       "    </tr>\n",
       "    <tr>\n",
       "      <th>1</th>\n",
       "      <td>org.axonframework.commandhandling.callbacks</td>\n",
       "      <td>axon-messaging-4.10.3</td>\n",
       "      <td>0</td>\n",
       "      <td>0.015708</td>\n",
       "      <td>0.229451</td>\n",
       "      <td>4.006474</td>\n",
       "    </tr>\n",
       "    <tr>\n",
       "      <th>2</th>\n",
       "      <td>org.axonframework.commandhandling.distributed</td>\n",
       "      <td>axon-messaging-4.10.3</td>\n",
       "      <td>0</td>\n",
       "      <td>0.023111</td>\n",
       "      <td>-0.380309</td>\n",
       "      <td>3.666408</td>\n",
       "    </tr>\n",
       "    <tr>\n",
       "      <th>3</th>\n",
       "      <td>org.axonframework.commandhandling.distributed....</td>\n",
       "      <td>axon-messaging-4.10.3</td>\n",
       "      <td>0</td>\n",
       "      <td>0.013919</td>\n",
       "      <td>-0.664316</td>\n",
       "      <td>4.144338</td>\n",
       "    </tr>\n",
       "    <tr>\n",
       "      <th>4</th>\n",
       "      <td>org.axonframework.commandhandling.gateway</td>\n",
       "      <td>axon-messaging-4.10.3</td>\n",
       "      <td>0</td>\n",
       "      <td>0.013360</td>\n",
       "      <td>0.694825</td>\n",
       "      <td>3.746287</td>\n",
       "    </tr>\n",
       "  </tbody>\n",
       "</table>\n",
       "</div>"
      ],
      "text/plain": [
       "                                            codeUnit               artifact  \\\n",
       "0                  org.axonframework.commandhandling  axon-messaging-4.10.3   \n",
       "1        org.axonframework.commandhandling.callbacks  axon-messaging-4.10.3   \n",
       "2      org.axonframework.commandhandling.distributed  axon-messaging-4.10.3   \n",
       "3  org.axonframework.commandhandling.distributed....  axon-messaging-4.10.3   \n",
       "4          org.axonframework.commandhandling.gateway  axon-messaging-4.10.3   \n",
       "\n",
       "   communityId  centrality         x         y  \n",
       "0            0    0.073179  0.519568  3.164009  \n",
       "1            0    0.015708  0.229451  4.006474  \n",
       "2            0    0.023111 -0.380309  3.666408  \n",
       "3            0    0.013919 -0.664316  4.144338  \n",
       "4            0    0.013360  0.694825  3.746287  "
      ]
     },
     "metadata": {},
     "output_type": "display_data"
    }
   ],
   "source": [
    "node_embeddings_for_visualization = prepare_node_embeddings_for_2d_visualization(embeddings)"
   ]
  },
  {
   "cell_type": "markdown",
   "id": "f908c47f",
   "metadata": {},
   "source": [
    "### 1.3 Visualization of the node embeddings reduced to two dimensions"
   ]
  },
  {
   "cell_type": "code",
   "execution_count": 16,
   "id": "459a819c",
   "metadata": {
    "execution": {
     "iopub.execute_input": "2025-01-16T07:34:31.109028Z",
     "iopub.status.busy": "2025-01-16T07:34:31.108840Z",
     "iopub.status.idle": "2025-01-16T07:34:31.226701Z",
     "shell.execute_reply": "2025-01-16T07:34:31.226174Z"
    }
   },
   "outputs": [
    {
     "data": {
      "image/png": "[encoded data removed]",
      "text/plain": [
       "<Figure size 640x480 with 1 Axes>"
      ]
     },
     "metadata": {},
     "output_type": "display_data"
    }
   ],
   "source": [
    "plot_2d_node_embeddings(\n",
    "    node_embeddings_for_visualization, \n",
    "    \"Java Package positioned by their dependency relationships (FastRP node embeddings + t-SNE)\"\n",
    ")"
   ]
  },
  {
   "cell_type": "markdown",
   "id": "b690b9a7",
   "metadata": {},
   "source": [
    "### 1.4 Node Embeddings for Java Packages using HashGNN\n",
    "\n",
    "[HashGNN](https://neo4j.com/docs/graph-data-science/2.6/machine-learning/node-embeddings/hashgnn) resembles Graph Neural Networks (GNN) but does not include a model or require training. It combines ideas of GNNs and fast randomized algorithms. For more details see [HashGNN](https://neo4j.com/docs/graph-data-science/2.6/machine-learning/node-embeddings/hashgnn). Here, the latter 3 steps are combined into one for HashGNN."
   ]
  },
  {
   "cell_type": "code",
   "execution_count": 17,
   "id": "3d3cfb7a",
   "metadata": {
    "execution": {
     "iopub.execute_input": "2025-01-16T07:34:31.229205Z",
     "iopub.status.busy": "2025-01-16T07:34:31.228964Z",
     "iopub.status.idle": "2025-01-16T07:34:32.187751Z",
     "shell.execute_reply": "2025-01-16T07:34:32.187243Z"
    }
   },
   "outputs": [
    {
     "name": "stdout",
     "output_type": "stream",
     "text": [
      "The results have been provided by the query filename: ../cypher/Node_Embeddings/Node_Embeddings_0a_Query_Calculated.cypher\n"
     ]
    },
    {
     "data": {
      "text/html": [
       "<div>\n",
       "<style scoped>\n",
       "    .dataframe tbody tr th:only-of-type {\n",
       "        vertical-align: middle;\n",
       "    }\n",
       "\n",
       "    .dataframe tbody tr th {\n",
       "        vertical-align: top;\n",
       "    }\n",
       "\n",
       "    .dataframe thead th {\n",
       "        text-align: right;\n",
       "    }\n",
       "</style>\n",
       "<table border=\"1\" class=\"dataframe\">\n",
       "  <thead>\n",
       "    <tr style=\"text-align: right;\">\n",
       "      <th></th>\n",
       "      <th>codeUnitName</th>\n",
       "      <th>shortCodeUnitName</th>\n",
       "      <th>projectName</th>\n",
       "      <th>communityId</th>\n",
       "      <th>centrality</th>\n",
       "      <th>embedding</th>\n",
       "    </tr>\n",
       "  </thead>\n",
       "  <tbody>\n",
       "    <tr>\n",
       "      <th>0</th>\n",
       "      <td>org.axonframework.commandhandling</td>\n",
       "      <td>commandhandling</td>\n",
       "      <td>axon-messaging-4.10.3</td>\n",
       "      <td>0</td>\n",
       "      <td>0.073179</td>\n",
       "      <td>[-0.21650634706020355, -1.7320507764816284, -0...</td>\n",
       "    </tr>\n",
       "    <tr>\n",
       "      <th>1</th>\n",
       "      <td>org.axonframework.commandhandling.callbacks</td>\n",
       "      <td>callbacks</td>\n",
       "      <td>axon-messaging-4.10.3</td>\n",
       "      <td>0</td>\n",
       "      <td>0.015708</td>\n",
       "      <td>[-0.21650634706020355, -0.8660253882408142, -0...</td>\n",
       "    </tr>\n",
       "    <tr>\n",
       "      <th>2</th>\n",
       "      <td>org.axonframework.commandhandling.distributed</td>\n",
       "      <td>distributed</td>\n",
       "      <td>axon-messaging-4.10.3</td>\n",
       "      <td>0</td>\n",
       "      <td>0.023111</td>\n",
       "      <td>[0.0, -1.5155444294214249, -0.2165063470602035...</td>\n",
       "    </tr>\n",
       "    <tr>\n",
       "      <th>3</th>\n",
       "      <td>org.axonframework.commandhandling.distributed....</td>\n",
       "      <td>commandfilter</td>\n",
       "      <td>axon-messaging-4.10.3</td>\n",
       "      <td>0</td>\n",
       "      <td>0.013919</td>\n",
       "      <td>[-0.4330126941204071, -1.7320507764816284, 0.4...</td>\n",
       "    </tr>\n",
       "    <tr>\n",
       "      <th>4</th>\n",
       "      <td>org.axonframework.commandhandling.gateway</td>\n",
       "      <td>gateway</td>\n",
       "      <td>axon-messaging-4.10.3</td>\n",
       "      <td>0</td>\n",
       "      <td>0.013360</td>\n",
       "      <td>[0.6495190411806107, -0.6495190411806107, -1.0...</td>\n",
       "    </tr>\n",
       "  </tbody>\n",
       "</table>\n",
       "</div>"
      ],
      "text/plain": [
       "                                        codeUnitName shortCodeUnitName  \\\n",
       "0                  org.axonframework.commandhandling   commandhandling   \n",
       "1        org.axonframework.commandhandling.callbacks         callbacks   \n",
       "2      org.axonframework.commandhandling.distributed       distributed   \n",
       "3  org.axonframework.commandhandling.distributed....     commandfilter   \n",
       "4          org.axonframework.commandhandling.gateway           gateway   \n",
       "\n",
       "             projectName  communityId  centrality  \\\n",
       "0  axon-messaging-4.10.3            0    0.073179   \n",
       "1  axon-messaging-4.10.3            0    0.015708   \n",
       "2  axon-messaging-4.10.3            0    0.023111   \n",
       "3  axon-messaging-4.10.3            0    0.013919   \n",
       "4  axon-messaging-4.10.3            0    0.013360   \n",
       "\n",
       "                                           embedding  \n",
       "0  [-0.21650634706020355, -1.7320507764816284, -0...  \n",
       "1  [-0.21650634706020355, -0.8660253882408142, -0...  \n",
       "2  [0.0, -1.5155444294214249, -0.2165063470602035...  \n",
       "3  [-0.4330126941204071, -1.7320507764816284, 0.4...  \n",
       "4  [0.6495190411806107, -0.6495190411806107, -1.0...  "
      ]
     },
     "metadata": {},
     "output_type": "display_data"
    },
    {
     "name": "stdout",
     "output_type": "stream",
     "text": [
      "--------------------------------------------------------------------------------\n",
      "TSNE(early_exaggeration=12, random_state=47, verbose=1)\n",
      "--------------------------------------------------------------------------------\n",
      "===> Finding 90 nearest neighbors using exact search using euclidean distance...\n",
      "   --> Time elapsed: 0.01 seconds\n",
      "===> Calculating affinity matrix...\n",
      "   --> Time elapsed: 0.00 seconds\n",
      "===> Calculating PCA-based initialization...\n",
      "   --> Time elapsed: 0.01 seconds\n",
      "===> Running optimization with exaggeration=12.00, lr=9.50 for 250 iterations...\n",
      "Iteration   50, KL divergence -0.8590, 50 iterations in 0.0892 sec\n",
      "Iteration  100, KL divergence 1.2400, 50 iterations in 0.0169 sec\n",
      "Iteration  150, KL divergence 1.2400, 50 iterations in 0.0149 sec\n",
      "Iteration  200, KL divergence 1.2400, 50 iterations in 0.0147 sec\n",
      "Iteration  250, KL divergence 1.2400, 50 iterations in 0.0147 sec\n",
      "   --> Time elapsed: 0.15 seconds\n",
      "===> Running optimization with exaggeration=1.00, lr=114.00 for 500 iterations...\n",
      "Iteration   50, KL divergence 0.5620, 50 iterations in 0.0437 sec\n",
      "Iteration  100, KL divergence 0.5500, 50 iterations in 0.0455 sec\n",
      "Iteration  150, KL divergence 0.5469, 50 iterations in 0.0455 sec\n",
      "Iteration  200, KL divergence 0.5471, 50 iterations in 0.0463 sec\n",
      "Iteration  250, KL divergence 0.5472, 50 iterations in 0.0463 sec\n",
      "Iteration  300, KL divergence 0.5471, 50 iterations in 0.0474 sec\n",
      "Iteration  350, KL divergence 0.5471, 50 iterations in 0.0464 sec\n",
      "Iteration  400, KL divergence 0.5471, 50 iterations in 0.0461 sec\n",
      "Iteration  450, KL divergence 0.5471, 50 iterations in 0.0462 sec\n",
      "Iteration  500, KL divergence 0.5471, 50 iterations in 0.0466 sec\n",
      "   --> Time elapsed: 0.46 seconds\n"
     ]
    },
    {
     "data": {
      "text/plain": [
       "(114, 2)"
      ]
     },
     "metadata": {},
     "output_type": "display_data"
    },
    {
     "data": {
      "text/html": [
       "<div>\n",
       "<style scoped>\n",
       "    .dataframe tbody tr th:only-of-type {\n",
       "        vertical-align: middle;\n",
       "    }\n",
       "\n",
       "    .dataframe tbody tr th {\n",
       "        vertical-align: top;\n",
       "    }\n",
       "\n",
       "    .dataframe thead th {\n",
       "        text-align: right;\n",
       "    }\n",
       "</style>\n",
       "<table border=\"1\" class=\"dataframe\">\n",
       "  <thead>\n",
       "    <tr style=\"text-align: right;\">\n",
       "      <th></th>\n",
       "      <th>codeUnit</th>\n",
       "      <th>artifact</th>\n",
       "      <th>communityId</th>\n",
       "      <th>centrality</th>\n",
       "      <th>x</th>\n",
       "      <th>y</th>\n",
       "    </tr>\n",
       "  </thead>\n",
       "  <tbody>\n",
       "    <tr>\n",
       "      <th>0</th>\n",
       "      <td>org.axonframework.commandhandling</td>\n",
       "      <td>axon-messaging-4.10.3</td>\n",
       "      <td>0</td>\n",
       "      <td>0.073179</td>\n",
       "      <td>0.507326</td>\n",
       "      <td>2.046275</td>\n",
       "    </tr>\n",
       "    <tr>\n",
       "      <th>1</th>\n",
       "      <td>org.axonframework.commandhandling.callbacks</td>\n",
       "      <td>axon-messaging-4.10.3</td>\n",
       "      <td>0</td>\n",
       "      <td>0.015708</td>\n",
       "      <td>0.115563</td>\n",
       "      <td>0.648749</td>\n",
       "    </tr>\n",
       "    <tr>\n",
       "      <th>2</th>\n",
       "      <td>org.axonframework.commandhandling.distributed</td>\n",
       "      <td>axon-messaging-4.10.3</td>\n",
       "      <td>0</td>\n",
       "      <td>0.023111</td>\n",
       "      <td>1.069620</td>\n",
       "      <td>2.253588</td>\n",
       "    </tr>\n",
       "    <tr>\n",
       "      <th>3</th>\n",
       "      <td>org.axonframework.commandhandling.distributed....</td>\n",
       "      <td>axon-messaging-4.10.3</td>\n",
       "      <td>0</td>\n",
       "      <td>0.013919</td>\n",
       "      <td>0.279048</td>\n",
       "      <td>3.264191</td>\n",
       "    </tr>\n",
       "    <tr>\n",
       "      <th>4</th>\n",
       "      <td>org.axonframework.commandhandling.gateway</td>\n",
       "      <td>axon-messaging-4.10.3</td>\n",
       "      <td>0</td>\n",
       "      <td>0.013360</td>\n",
       "      <td>-0.588890</td>\n",
       "      <td>1.078799</td>\n",
       "    </tr>\n",
       "  </tbody>\n",
       "</table>\n",
       "</div>"
      ],
      "text/plain": [
       "                                            codeUnit               artifact  \\\n",
       "0                  org.axonframework.commandhandling  axon-messaging-4.10.3   \n",
       "1        org.axonframework.commandhandling.callbacks  axon-messaging-4.10.3   \n",
       "2      org.axonframework.commandhandling.distributed  axon-messaging-4.10.3   \n",
       "3  org.axonframework.commandhandling.distributed....  axon-messaging-4.10.3   \n",
       "4          org.axonframework.commandhandling.gateway  axon-messaging-4.10.3   \n",
       "\n",
       "   communityId  centrality         x         y  \n",
       "0            0    0.073179  0.507326  2.046275  \n",
       "1            0    0.015708  0.115563  0.648749  \n",
       "2            0    0.023111  1.069620  2.253588  \n",
       "3            0    0.013919  0.279048  3.264191  \n",
       "4            0    0.013360 -0.588890  1.078799  "
      ]
     },
     "metadata": {},
     "output_type": "display_data"
    },
    {
     "data": {
      "image/png": "[encoded data removed]",
      "text/plain": [
       "<Figure size 640x480 with 1 Axes>"
      ]
     },
     "metadata": {},
     "output_type": "display_data"
    }
   ],
   "source": [
    "java_package_embeddings_parameters={\n",
    "    \"dependencies_projection\": \"java-package-embeddings-notebook\",\n",
    "    \"dependencies_projection_node\": \"Package\",\n",
    "    \"dependencies_projection_weight_property\": \"weight25PercentInterfaces\",\n",
    "    \"dependencies_projection_write_property\": \"embeddingsHashGNN\",\n",
    "    \"dependencies_projection_embedding_dimension\":\"64\"\n",
    "}\n",
    "embeddings = create_node_embeddings(\"../cypher/Node_Embeddings/Node_Embeddings_2d_Hash_GNN_Stream.cypher\", java_package_embeddings_parameters)\n",
    "node_embeddings_for_visualization = prepare_node_embeddings_for_2d_visualization(embeddings)\n",
    "plot_2d_node_embeddings(\n",
    "    node_embeddings_for_visualization, \n",
    "    \"Java Package positioned by their dependency relationships (HashGNN node embeddings + t-SNE)\"\n",
    ")"
   ]
  },
  {
   "cell_type": "markdown",
   "id": "248d88b4",
   "metadata": {},
   "source": [
    "### 2.5 Node Embeddings for Java Packages using node2vec"
   ]
  },
  {
   "cell_type": "code",
   "execution_count": 18,
   "id": "62c40c45",
   "metadata": {
    "execution": {
     "iopub.execute_input": "2025-01-16T07:34:32.190103Z",
     "iopub.status.busy": "2025-01-16T07:34:32.189909Z",
     "iopub.status.idle": "2025-01-16T07:34:33.149009Z",
     "shell.execute_reply": "2025-01-16T07:34:33.148492Z"
    }
   },
   "outputs": [
    {
     "name": "stdout",
     "output_type": "stream",
     "text": [
      "The results have been provided by the query filename: ../cypher/Node_Embeddings/Node_Embeddings_0a_Query_Calculated.cypher\n"
     ]
    },
    {
     "data": {
      "text/html": [
       "<div>\n",
       "<style scoped>\n",
       "    .dataframe tbody tr th:only-of-type {\n",
       "        vertical-align: middle;\n",
       "    }\n",
       "\n",
       "    .dataframe tbody tr th {\n",
       "        vertical-align: top;\n",
       "    }\n",
       "\n",
       "    .dataframe thead th {\n",
       "        text-align: right;\n",
       "    }\n",
       "</style>\n",
       "<table border=\"1\" class=\"dataframe\">\n",
       "  <thead>\n",
       "    <tr style=\"text-align: right;\">\n",
       "      <th></th>\n",
       "      <th>codeUnitName</th>\n",
       "      <th>shortCodeUnitName</th>\n",
       "      <th>projectName</th>\n",
       "      <th>communityId</th>\n",
       "      <th>centrality</th>\n",
       "      <th>embedding</th>\n",
       "    </tr>\n",
       "  </thead>\n",
       "  <tbody>\n",
       "    <tr>\n",
       "      <th>0</th>\n",
       "      <td>org.axonframework.commandhandling</td>\n",
       "      <td>commandhandling</td>\n",
       "      <td>axon-messaging-4.10.3</td>\n",
       "      <td>0</td>\n",
       "      <td>0.073179</td>\n",
       "      <td>[0.7876829504966736, -0.41208893060684204, 0.1...</td>\n",
       "    </tr>\n",
       "    <tr>\n",
       "      <th>1</th>\n",
       "      <td>org.axonframework.commandhandling.callbacks</td>\n",
       "      <td>callbacks</td>\n",
       "      <td>axon-messaging-4.10.3</td>\n",
       "      <td>0</td>\n",
       "      <td>0.015708</td>\n",
       "      <td>[0.7315654754638672, -0.343999445438385, -0.02...</td>\n",
       "    </tr>\n",
       "    <tr>\n",
       "      <th>2</th>\n",
       "      <td>org.axonframework.commandhandling.distributed</td>\n",
       "      <td>distributed</td>\n",
       "      <td>axon-messaging-4.10.3</td>\n",
       "      <td>0</td>\n",
       "      <td>0.023111</td>\n",
       "      <td>[0.453740656375885, -0.48191577196121216, 0.41...</td>\n",
       "    </tr>\n",
       "    <tr>\n",
       "      <th>3</th>\n",
       "      <td>org.axonframework.commandhandling.distributed....</td>\n",
       "      <td>commandfilter</td>\n",
       "      <td>axon-messaging-4.10.3</td>\n",
       "      <td>0</td>\n",
       "      <td>0.013919</td>\n",
       "      <td>[0.6651913523674011, -0.4753768742084503, 0.54...</td>\n",
       "    </tr>\n",
       "    <tr>\n",
       "      <th>4</th>\n",
       "      <td>org.axonframework.commandhandling.gateway</td>\n",
       "      <td>gateway</td>\n",
       "      <td>axon-messaging-4.10.3</td>\n",
       "      <td>0</td>\n",
       "      <td>0.013360</td>\n",
       "      <td>[0.7791721820831299, -0.2870602011680603, 0.18...</td>\n",
       "    </tr>\n",
       "  </tbody>\n",
       "</table>\n",
       "</div>"
      ],
      "text/plain": [
       "                                        codeUnitName shortCodeUnitName  \\\n",
       "0                  org.axonframework.commandhandling   commandhandling   \n",
       "1        org.axonframework.commandhandling.callbacks         callbacks   \n",
       "2      org.axonframework.commandhandling.distributed       distributed   \n",
       "3  org.axonframework.commandhandling.distributed....     commandfilter   \n",
       "4          org.axonframework.commandhandling.gateway           gateway   \n",
       "\n",
       "             projectName  communityId  centrality  \\\n",
       "0  axon-messaging-4.10.3            0    0.073179   \n",
       "1  axon-messaging-4.10.3            0    0.015708   \n",
       "2  axon-messaging-4.10.3            0    0.023111   \n",
       "3  axon-messaging-4.10.3            0    0.013919   \n",
       "4  axon-messaging-4.10.3            0    0.013360   \n",
       "\n",
       "                                           embedding  \n",
       "0  [0.7876829504966736, -0.41208893060684204, 0.1...  \n",
       "1  [0.7315654754638672, -0.343999445438385, -0.02...  \n",
       "2  [0.453740656375885, -0.48191577196121216, 0.41...  \n",
       "3  [0.6651913523674011, -0.4753768742084503, 0.54...  \n",
       "4  [0.7791721820831299, -0.2870602011680603, 0.18...  "
      ]
     },
     "metadata": {},
     "output_type": "display_data"
    },
    {
     "name": "stdout",
     "output_type": "stream",
     "text": [
      "--------------------------------------------------------------------------------\n",
      "TSNE(early_exaggeration=12, random_state=47, verbose=1)\n",
      "--------------------------------------------------------------------------------\n",
      "===> Finding 90 nearest neighbors using exact search using euclidean distance...\n",
      "   --> Time elapsed: 0.00 seconds\n",
      "===> Calculating affinity matrix...\n",
      "   --> Time elapsed: 0.00 seconds\n",
      "===> Calculating PCA-based initialization...\n",
      "   --> Time elapsed: 0.00 seconds\n",
      "===> Running optimization with exaggeration=12.00, lr=9.50 for 250 iterations...\n",
      "Iteration   50, KL divergence -0.5564, 50 iterations in 0.0665 sec\n",
      "Iteration  100, KL divergence 1.1701, 50 iterations in 0.0172 sec\n",
      "Iteration  150, KL divergence 1.1701, 50 iterations in 0.0151 sec\n",
      "Iteration  200, KL divergence 1.1701, 50 iterations in 0.0149 sec\n",
      "Iteration  250, KL divergence 1.1701, 50 iterations in 0.0166 sec\n",
      "   --> Time elapsed: 0.13 seconds\n",
      "===> Running optimization with exaggeration=1.00, lr=114.00 for 500 iterations...\n",
      "Iteration   50, KL divergence 0.3176, 50 iterations in 0.0738 sec\n",
      "Iteration  100, KL divergence 0.2977, 50 iterations in 0.0501 sec\n",
      "Iteration  150, KL divergence 0.2952, 50 iterations in 0.0471 sec\n",
      "Iteration  200, KL divergence 0.2958, 50 iterations in 0.0463 sec\n",
      "Iteration  250, KL divergence 0.2957, 50 iterations in 0.0464 sec\n",
      "Iteration  300, KL divergence 0.2959, 50 iterations in 0.0473 sec\n",
      "Iteration  350, KL divergence 0.2959, 50 iterations in 0.0466 sec\n",
      "Iteration  400, KL divergence 0.2958, 50 iterations in 0.0461 sec\n",
      "Iteration  450, KL divergence 0.2956, 50 iterations in 0.0459 sec\n",
      "Iteration  500, KL divergence 0.2958, 50 iterations in 0.0463 sec\n",
      "   --> Time elapsed: 0.50 seconds\n"
     ]
    },
    {
     "data": {
      "text/plain": [
       "(114, 2)"
      ]
     },
     "metadata": {},
     "output_type": "display_data"
    },
    {
     "data": {
      "text/html": [
       "<div>\n",
       "<style scoped>\n",
       "    .dataframe tbody tr th:only-of-type {\n",
       "        vertical-align: middle;\n",
       "    }\n",
       "\n",
       "    .dataframe tbody tr th {\n",
       "        vertical-align: top;\n",
       "    }\n",
       "\n",
       "    .dataframe thead th {\n",
       "        text-align: right;\n",
       "    }\n",
       "</style>\n",
       "<table border=\"1\" class=\"dataframe\">\n",
       "  <thead>\n",
       "    <tr style=\"text-align: right;\">\n",
       "      <th></th>\n",
       "      <th>codeUnit</th>\n",
       "      <th>artifact</th>\n",
       "      <th>communityId</th>\n",
       "      <th>centrality</th>\n",
       "      <th>x</th>\n",
       "      <th>y</th>\n",
       "    </tr>\n",
       "  </thead>\n",
       "  <tbody>\n",
       "    <tr>\n",
       "      <th>0</th>\n",
       "      <td>org.axonframework.commandhandling</td>\n",
       "      <td>axon-messaging-4.10.3</td>\n",
       "      <td>0</td>\n",
       "      <td>0.073179</td>\n",
       "      <td>5.555953</td>\n",
       "      <td>-1.625446</td>\n",
       "    </tr>\n",
       "    <tr>\n",
       "      <th>1</th>\n",
       "      <td>org.axonframework.commandhandling.callbacks</td>\n",
       "      <td>axon-messaging-4.10.3</td>\n",
       "      <td>0</td>\n",
       "      <td>0.015708</td>\n",
       "      <td>6.606926</td>\n",
       "      <td>-1.463624</td>\n",
       "    </tr>\n",
       "    <tr>\n",
       "      <th>2</th>\n",
       "      <td>org.axonframework.commandhandling.distributed</td>\n",
       "      <td>axon-messaging-4.10.3</td>\n",
       "      <td>0</td>\n",
       "      <td>0.023111</td>\n",
       "      <td>4.396882</td>\n",
       "      <td>-2.930211</td>\n",
       "    </tr>\n",
       "    <tr>\n",
       "      <th>3</th>\n",
       "      <td>org.axonframework.commandhandling.distributed....</td>\n",
       "      <td>axon-messaging-4.10.3</td>\n",
       "      <td>0</td>\n",
       "      <td>0.013919</td>\n",
       "      <td>4.488359</td>\n",
       "      <td>-3.039664</td>\n",
       "    </tr>\n",
       "    <tr>\n",
       "      <th>4</th>\n",
       "      <td>org.axonframework.commandhandling.gateway</td>\n",
       "      <td>axon-messaging-4.10.3</td>\n",
       "      <td>0</td>\n",
       "      <td>0.013360</td>\n",
       "      <td>6.387755</td>\n",
       "      <td>-1.438874</td>\n",
       "    </tr>\n",
       "  </tbody>\n",
       "</table>\n",
       "</div>"
      ],
      "text/plain": [
       "                                            codeUnit               artifact  \\\n",
       "0                  org.axonframework.commandhandling  axon-messaging-4.10.3   \n",
       "1        org.axonframework.commandhandling.callbacks  axon-messaging-4.10.3   \n",
       "2      org.axonframework.commandhandling.distributed  axon-messaging-4.10.3   \n",
       "3  org.axonframework.commandhandling.distributed....  axon-messaging-4.10.3   \n",
       "4          org.axonframework.commandhandling.gateway  axon-messaging-4.10.3   \n",
       "\n",
       "   communityId  centrality         x         y  \n",
       "0            0    0.073179  5.555953 -1.625446  \n",
       "1            0    0.015708  6.606926 -1.463624  \n",
       "2            0    0.023111  4.396882 -2.930211  \n",
       "3            0    0.013919  4.488359 -3.039664  \n",
       "4            0    0.013360  6.387755 -1.438874  "
      ]
     },
     "metadata": {},
     "output_type": "display_data"
    },
    {
     "data": {
      "image/png": "[encoded data removed]",
      "text/plain": [
       "<Figure size 640x480 with 1 Axes>"
      ]
     },
     "metadata": {},
     "output_type": "display_data"
    }
   ],
   "source": [
    "java_package_embeddings_parameters={\n",
    "    \"dependencies_projection\": \"java-package-embeddings-notebook\",\n",
    "    \"dependencies_projection_node\": \"Package\",\n",
    "    \"dependencies_projection_weight_property\": \"weight25PercentInterfaces\",\n",
    "    \"dependencies_projection_write_property\": \"embeddingsNode2Vec\",\n",
    "    \"dependencies_projection_embedding_dimension\":\"32\"\n",
    "}\n",
    "embeddings = create_node_embeddings(\"../cypher/Node_Embeddings/Node_Embeddings_3d_Node2Vec_Stream.cypher\", java_package_embeddings_parameters)\n",
    "node_embeddings_for_visualization = prepare_node_embeddings_for_2d_visualization(embeddings)\n",
    "plot_2d_node_embeddings(\n",
    "    node_embeddings_for_visualization, \n",
    "    \"Java Package positioned by their dependency relationships (node2vec node embeddings + t-SNE)\"\n",
    ")"
   ]
  }
 ],
 "metadata": {
  "authors": [
   {
    "name": "JohT"
   }
  ],
  "code_graph_analysis_pipeline_data_validation": "ValidateJavaPackageDependencies",
  "kernelspec": {
   "display_name": "Python 3 (ipykernel)",
   "language": "python",
   "name": "python3"
  },
  "language_info": {
   "codemirror_mode": {
    "name": "ipython",
    "version": 3
   },
   "file_extension": ".py",
   "mimetype": "text/x-python",
   "name": "python",
   "nbconvert_exporter": "python",
   "pygments_lexer": "ipython3",
   "version": "3.11.0"
  },
  "title": "Object Oriented Design Quality Metrics for Java with Neo4j"
 },
 "nbformat": 4,
 "nbformat_minor": 5
}
